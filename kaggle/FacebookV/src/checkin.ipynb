{
 "cells": [
  {
   "cell_type": "code",
   "execution_count": 1,
   "metadata": {
    "collapsed": true
   },
   "outputs": [],
   "source": [
    "import pandas as pd\n",
    "import numpy as np"
   ]
  },
  {
   "cell_type": "code",
   "execution_count": 2,
   "metadata": {
    "collapsed": false
   },
   "outputs": [
    {
     "data": {
      "text/html": [
       "<div>\n",
       "<table border=\"1\" class=\"dataframe\">\n",
       "  <thead>\n",
       "    <tr style=\"text-align: right;\">\n",
       "      <th></th>\n",
       "      <th>row_id</th>\n",
       "      <th>x</th>\n",
       "      <th>y</th>\n",
       "      <th>accuracy</th>\n",
       "      <th>time</th>\n",
       "      <th>place_id</th>\n",
       "    </tr>\n",
       "  </thead>\n",
       "  <tbody>\n",
       "    <tr>\n",
       "      <th>0</th>\n",
       "      <td>0</td>\n",
       "      <td>0.7941</td>\n",
       "      <td>9.0809</td>\n",
       "      <td>54</td>\n",
       "      <td>470702</td>\n",
       "      <td>8523065625</td>\n",
       "    </tr>\n",
       "    <tr>\n",
       "      <th>1</th>\n",
       "      <td>1</td>\n",
       "      <td>5.9567</td>\n",
       "      <td>4.7968</td>\n",
       "      <td>13</td>\n",
       "      <td>186555</td>\n",
       "      <td>1757726713</td>\n",
       "    </tr>\n",
       "    <tr>\n",
       "      <th>2</th>\n",
       "      <td>2</td>\n",
       "      <td>8.3078</td>\n",
       "      <td>7.0407</td>\n",
       "      <td>74</td>\n",
       "      <td>322648</td>\n",
       "      <td>1137537235</td>\n",
       "    </tr>\n",
       "    <tr>\n",
       "      <th>3</th>\n",
       "      <td>3</td>\n",
       "      <td>7.3665</td>\n",
       "      <td>2.5165</td>\n",
       "      <td>65</td>\n",
       "      <td>704587</td>\n",
       "      <td>6567393236</td>\n",
       "    </tr>\n",
       "    <tr>\n",
       "      <th>4</th>\n",
       "      <td>4</td>\n",
       "      <td>4.0961</td>\n",
       "      <td>1.1307</td>\n",
       "      <td>31</td>\n",
       "      <td>472130</td>\n",
       "      <td>7440663949</td>\n",
       "    </tr>\n",
       "  </tbody>\n",
       "</table>\n",
       "</div>"
      ],
      "text/plain": [
       "   row_id       x       y  accuracy    time    place_id\n",
       "0       0  0.7941  9.0809        54  470702  8523065625\n",
       "1       1  5.9567  4.7968        13  186555  1757726713\n",
       "2       2  8.3078  7.0407        74  322648  1137537235\n",
       "3       3  7.3665  2.5165        65  704587  6567393236\n",
       "4       4  4.0961  1.1307        31  472130  7440663949"
      ]
     },
     "execution_count": 2,
     "metadata": {},
     "output_type": "execute_result"
    }
   ],
   "source": [
    "trainLoc = '../input/train.csv'\n",
    "df_train = pd.read_csv(trainLoc, header = 0, sep = ',')\n",
    "df_train.head()"
   ]
  },
  {
   "cell_type": "code",
   "execution_count": 3,
   "metadata": {
    "collapsed": false
   },
   "outputs": [
    {
     "data": {
      "text/plain": [
       "<bound method Series.unique of 0           8523065625\n",
       "1           1757726713\n",
       "2           1137537235\n",
       "3           6567393236\n",
       "4           7440663949\n",
       "5           6289802927\n",
       "6           9931249544\n",
       "7           5662813655\n",
       "8           8471780938\n",
       "9           1253803156\n",
       "10          8684462954\n",
       "11          2159916487\n",
       "12          7652380351\n",
       "13          8234363596\n",
       "14          2272949794\n",
       "15          4740742194\n",
       "16          2123587484\n",
       "17          8016758016\n",
       "18          8936085695\n",
       "19          2778700985\n",
       "20          4845908305\n",
       "21          3938338894\n",
       "22          9784464752\n",
       "23          1874355796\n",
       "24          9885174082\n",
       "25          4294512385\n",
       "26          7766380992\n",
       "27          2110807282\n",
       "28          9713229580\n",
       "29          6163271747\n",
       "               ...    \n",
       "29117991    9518416844\n",
       "29117992    4579210194\n",
       "29117993    7082695242\n",
       "29117994    1550124580\n",
       "29117995    1226687693\n",
       "29117996    3530972003\n",
       "29117997    2856274327\n",
       "29117998    7842684810\n",
       "29117999    7594986161\n",
       "29118000    4745521730\n",
       "29118001    1024290530\n",
       "29118002    9033567575\n",
       "29118003    1329555199\n",
       "29118004    5731650052\n",
       "29118005    5039310244\n",
       "29118006    3822809844\n",
       "29118007    9294668810\n",
       "29118008    9791467472\n",
       "29118009    8647480716\n",
       "29118010    2596462819\n",
       "29118011    6554476200\n",
       "29118012    1817075880\n",
       "29118013    1406544605\n",
       "29118014    5515553973\n",
       "29118015    5760372884\n",
       "29118016    8671361106\n",
       "29118017    9077887898\n",
       "29118018    2838334300\n",
       "29118019    1007355847\n",
       "29118020    7028698129\n",
       "Name: place_id, dtype: int64>"
      ]
     },
     "execution_count": 3,
     "metadata": {},
     "output_type": "execute_result"
    }
   ],
   "source": []
  },
  {
   "cell_type": "code",
   "execution_count": null,
   "metadata": {
    "collapsed": true
   },
   "outputs": [],
   "source": []
  }
 ],
 "metadata": {
  "kernelspec": {
   "display_name": "Python 2",
   "language": "python",
   "name": "python2"
  },
  "language_info": {
   "codemirror_mode": {
    "name": "ipython",
    "version": 2
   },
   "file_extension": ".py",
   "mimetype": "text/x-python",
   "name": "python",
   "nbconvert_exporter": "python",
   "pygments_lexer": "ipython2",
   "version": "2.7.11"
  }
 },
 "nbformat": 4,
 "nbformat_minor": 0
}
