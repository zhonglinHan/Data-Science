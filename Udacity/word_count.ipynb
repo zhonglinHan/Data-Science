{
 "cells": [
  {
   "cell_type": "code",
   "execution_count": 1,
   "metadata": {
    "collapsed": true
   },
   "outputs": [],
   "source": [
    "def test_run():\n",
    "    \"\"\"Test count_words() with some inputs.\"\"\"\n",
    "    print count_words(\"cat bat mat cat bat cat\", 3)\n",
    "    print count_words(\"betty bought a bit of butter but the butter was bitter\", 3)"
   ]
  },
  {
   "cell_type": "code",
   "execution_count": 128,
   "metadata": {
    "collapsed": false
   },
   "outputs": [],
   "source": [
    "def count_words(s, n):\n",
    "    \"\"\"Return the n most frequently occuring words in s.\"\"\"\n",
    "    \n",
    "    # TODO: Count the number of occurences of each word in s\n",
    "    wordlist = s.split()\n",
    "    uniques = set(wordlist)\n",
    "    d = dict([(w, wordlist.count(w)) for w in uniques])\n",
    "    ordict = sorted(sorted(d.items()), key=lambda item:item[1], reverse = True)\n",
    "    #ordict = sorted(d1.items(), key=lambda item: item[0], reverse=True)\n",
    "    # TODO: Sort the occurences in descending order (alphabetically in case of ties)\n",
    "    top_n = ordict[0:n]\n",
    "    # TODO: Return the top n words as a list of tuples (<word>, <count>)\n",
    "    \n",
    "    return top_n"
   ]
  },
  {
   "cell_type": "code",
   "execution_count": 129,
   "metadata": {
    "collapsed": false
   },
   "outputs": [
    {
     "name": "stdout",
     "output_type": "stream",
     "text": [
      "[('cat', 3), ('bat', 2), ('mat', 1)]\n",
      "[('butter', 2), ('a', 1), ('betty', 1)]\n"
     ]
    }
   ],
   "source": [
    "test_run()"
   ]
  },
  {
   "cell_type": "code",
   "execution_count": null,
   "metadata": {
    "collapsed": true
   },
   "outputs": [],
   "source": []
  }
 ],
 "metadata": {
  "kernelspec": {
   "display_name": "Python 2",
   "language": "python",
   "name": "python2"
  },
  "language_info": {
   "codemirror_mode": {
    "name": "ipython",
    "version": 2
   },
   "file_extension": ".py",
   "mimetype": "text/x-python",
   "name": "python",
   "nbconvert_exporter": "python",
   "pygments_lexer": "ipython2",
   "version": "2.7.11"
  }
 },
 "nbformat": 4,
 "nbformat_minor": 0
}
