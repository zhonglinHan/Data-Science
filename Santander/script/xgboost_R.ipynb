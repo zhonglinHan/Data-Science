{
 "cells": [
  {
   "cell_type": "code",
   "execution_count": null,
   "metadata": {
    "collapsed": false
   },
   "outputs": [],
   "source": [
    "library(ggplot2) # Data visualization\n",
    "library(readr) # CSV file I/O, e.g. the read_csv function\n",
    "\n",
    "# Input data files are available in the \"../input/\" directory.\n",
    "# For example, running this (by clicking run or pressing Shift+Enter) will list the files in the input directory\n",
    "\n",
    "system(\"ls ../input\")\n",
    "\n",
    "library(xgboost)\n",
    "library(Matrix)\n",
    "\n",
    "library(stringr)\n",
    "library(caret)\n",
    "library(car)\n",
    "\n",
    "set.seed(1)\n",
    "options(scipen=999)"
   ]
  },
  {
   "cell_type": "code",
   "execution_count": null,
   "metadata": {
    "collapsed": false
   },
   "outputs": [],
   "source": [
    "# ---------------------------------------------------\n",
    "# Load\n",
    "orig.train <- read.csv(\"../input/train.csv\", stringsAsFactors = F)\n",
    "orig.test <- read.csv(\"../input/test.csv\", stringsAsFactors = F)\n",
    "sample.submission <- read.csv(\"../input/sample_submission.csv\", stringsAsFactors = F)\n",
    "\n",
    "# ---------------------------------------------------\n",
    "# Merge\n",
    "orig.test$TARGET <- -1\n",
    "merged <- rbind(orig.train, orig.test)"
   ]
  },
  {
   "cell_type": "code",
   "execution_count": null,
   "metadata": {
    "collapsed": true
   },
   "outputs": [],
   "source": [
    "# Convert\n",
    "feature.train.names <- names(orig.train)[-1]\n",
    "for (f in feature.train.names) {\n",
    "  if (class(merged[[f]]) == \"numeric\") {\n",
    "    merged[[f]] <- merged[[f]] / max(merged[[f]])\n",
    "  } else if (class(merged[[f]]) == \"integer\") {\n",
    "    u <- unique(merged[[f]])\n",
    "    if (length(u) == 1) {\n",
    "      merged[[f]] <- NULL\n",
    "    } else if (length(u) < 200) {\n",
    "      merged[[f]] <- factor(merged[[f]])\n",
    "    }\n",
    "  }\n",
    "}\n",
    "\n",
    "# Split\n",
    "train <- merged[merged$TARGET != -1, ]\n",
    "test <- merged[merged$TARGET == -1, ]\n",
    "\n",
    "# Features\n",
    "feature.names <- names(train)\n",
    "feature.names <- feature.names[-grep('^ID$', feature.names)]\n",
    "feature.names <- feature.names[-grep('^TARGET$', feature.names)]\n",
    "feature.formula <- formula(paste('TARGET ~ ', paste(feature.names, collapse = ' + '), sep = ''))"
   ]
  },
  {
   "cell_type": "code",
   "execution_count": null,
   "metadata": {
    "collapsed": true
   },
   "outputs": [],
   "source": [
    "# Matrix\n",
    "indexes <- sample(seq_len(nrow(train)), floor(nrow(train)*0.85))\n",
    "\n",
    "data <- sparse.model.matrix(feature.formula, data = train[indexes, ])\n",
    "sparseMatrixColNamesTrain <- colnames(data)\n",
    "dtrain <- xgb.DMatrix(data, label = train[indexes, 'TARGET'])\n",
    "rm(data)\n",
    "dvalid <- xgb.DMatrix(sparse.model.matrix(feature.formula, data = train[-indexes, ]),\n",
    "                      label = train[-indexes, 'TARGET'])\n",
    "dtest <- sparse.model.matrix(feature.formula, data = test)\n",
    "\n",
    "watchlist <- list(valid = dvalid, train = dtrain)"
   ]
  },
  {
   "cell_type": "code",
   "execution_count": null,
   "metadata": {
    "collapsed": false
   },
   "outputs": [],
   "source": [
    "# XGBOOST\n",
    "params <- list(booster = \"gbtree\", objective = \"binary:logistic\",\n",
    "               max_depth = 8, eta = 0.05,\n",
    "               colsample_bytree = 0.65, subsample = 0.95)\n",
    "\n",
    "model <- xgb.train(params = params, data = dtrain,\n",
    "                   nrounds = 500, early.stop.round = 50,\n",
    "                   eval_metric = 'auc', maximize = T, nfold = 5,\n",
    "                   watchlist = watchlist, print.every.n = 50, verbose = 0)\n",
    "\n",
    "pred <- predict(model, dtest)"
   ]
  },
  {
   "cell_type": "markdown",
   "metadata": {},
   "source": [
    "## Cross Validation"
   ]
  },
  {
   "cell_type": "code",
   "execution_count": null,
   "metadata": {
    "collapsed": false
   },
   "outputs": [],
   "source": [
    "X_train <- train[indexes, ]\n",
    "y_train <- train$TARGET"
   ]
  },
  {
   "cell_type": "code",
   "execution_count": null,
   "metadata": {
    "collapsed": false
   },
   "outputs": [],
   "source": [
    "xgb_grid_1 = expand.grid(nrounds = 25,\n",
    "                        eta = c(0.05, 0.01, 0.1),\n",
    "                        max_depth = c(2, 4, 6),\n",
    "                        booster = \"gbtree\", objective = \"binary:logistic\",\n",
    "                        colsample_bytree = 0.65, subsample = 0.95,\n",
    "                        gamma = 1)\n",
    "\n",
    "\n",
    "xgb_train_control = trainControl(\n",
    "    method = \"cv\",\n",
    "    number = 5,\n",
    "    verboseIter = TRUE,\n",
    "    returnData = FALSE,\n",
    "    returnResamp = \"all\",\n",
    "    classProbs = TRUE,\n",
    "    summaryFunction = twoClassSummary,\n",
    "    allowParallel = TRUE\n",
    ")\n",
    "\n",
    "\n",
    "xgb_tune <- train(params = params, \n",
    "                  x = data.matrix(X_train),\n",
    "                  y = y_train,\n",
    "                  trControl = xgb_train_control,\n",
    "                  tunGrid = xgb_grid_1,\n",
    "                  verbose = T,\n",
    "                  seed = 1,\n",
    "                  eval_metric = 'auc',\n",
    "                  num_class = 2,\n",
    "                  nthread = 4\n",
    ")\n"
   ]
  },
  {
   "cell_type": "code",
   "execution_count": null,
   "metadata": {
    "collapsed": true
   },
   "outputs": [],
   "source": [
    "submission <- data.frame(ID = test$ID, TARGET = pred)\n",
    "write.csv(submission, '../output/xgboost_Mar03.csv', row.names=FALSE, quote = FALSE)\n"
   ]
  },
  {
   "cell_type": "markdown",
   "metadata": {},
   "source": [
    "# Xgboost Mar06"
   ]
  },
  {
   "cell_type": "code",
   "execution_count": 1,
   "metadata": {
    "collapsed": false
   },
   "outputs": [
    {
     "name": "stdout",
     "output_type": "stream",
     "text": [
      "\n",
      "## Removing the constants features.\n",
      "ind_var2_0 is constant in train. We delete it.\n",
      "ind_var2 is constant in train. We delete it.\n",
      "ind_var27_0 is constant in train. We delete it.\n",
      "ind_var28_0 is constant in train. We delete it.\n",
      "ind_var28 is constant in train. We delete it.\n",
      "ind_var27 is constant in train. We delete it.\n",
      "ind_var41 is constant in train. We delete it.\n",
      "ind_var46_0 is constant in train. We delete it.\n",
      "ind_var46 is constant in train. We delete it.\n",
      "num_var27_0 is constant in train. We delete it.\n",
      "num_var28_0 is constant in train. We delete it.\n",
      "num_var28 is constant in train. We delete it.\n",
      "num_var27 is constant in train. We delete it.\n",
      "num_var41 is constant in train. We delete it.\n",
      "num_var46_0 is constant in train. We delete it.\n",
      "num_var46 is constant in train. We delete it.\n",
      "saldo_var28 is constant in train. We delete it.\n",
      "saldo_var27 is constant in train. We delete it.\n",
      "saldo_var41 is constant in train. We delete it.\n",
      "saldo_var46 is constant in train. We delete it.\n",
      "imp_amort_var18_hace3 is constant in train. We delete it.\n",
      "imp_amort_var34_hace3 is constant in train. We delete it.\n",
      "imp_reemb_var13_hace3 is constant in train. We delete it.\n",
      "imp_reemb_var33_hace3 is constant in train. We delete it.\n",
      "imp_trasp_var17_out_hace3 is constant in train. We delete it.\n",
      "imp_trasp_var33_out_hace3 is constant in train. We delete it.\n",
      "num_var2_0_ult1 is constant in train. We delete it.\n",
      "num_var2_ult1 is constant in train. We delete it.\n",
      "num_reemb_var13_hace3 is constant in train. We delete it.\n",
      "num_reemb_var33_hace3 is constant in train. We delete it.\n",
      "num_trasp_var17_out_hace3 is constant in train. We delete it.\n",
      "num_trasp_var33_out_hace3 is constant in train. We delete it.\n",
      "saldo_var2_ult1 is constant in train. We delete it.\n",
      "saldo_medio_var13_medio_hace3 is constant in train. We delete it.\n"
     ]
    }
   ],
   "source": [
    "library(xgboost)\n",
    "library(Matrix)\n",
    "\n",
    "set.seed(1234)\n",
    "\n",
    "train <- read.csv(\"../input/train.csv\")\n",
    "test  <- read.csv(\"../input/test.csv\")\n",
    "\n",
    "##### Removing IDs\n",
    "train$ID <- NULL\n",
    "test.id <- test$ID\n",
    "test$ID <- NULL\n",
    "\n",
    "##### Extracting TARGET\n",
    "train.y <- train$TARGET\n",
    "train$TARGET <- NULL\n",
    "\n",
    "##### 0 count per line\n",
    "count0 <- function(x) {\n",
    "    return( sum(x == 0) )\n",
    "}\n",
    "train$n0 <- apply(train, 1, FUN=count0)\n",
    "test$n0 <- apply(test, 1, FUN=count0)\n",
    "\n",
    "##### Removing constant features\n",
    "cat(\"\\n## Removing the constants features.\\n\")\n",
    "for (f in names(train)) {\n",
    "    if (length(unique(train[[f]])) == 1) {\n",
    "        cat(f, \"is constant in train. We delete it.\\n\")\n",
    "        train[[f]] <- NULL\n",
    "        test[[f]] <- NULL\n",
    "    }\n",
    "}"
   ]
  },
  {
   "cell_type": "code",
   "execution_count": 2,
   "metadata": {
    "collapsed": false
   },
   "outputs": [
    {
     "name": "stdout",
     "output_type": "stream",
     "text": [
      "ind_var6_0 and ind_var29_0 are equals.\n",
      "ind_var6 and ind_var29 are equals.\n",
      "ind_var13_medio_0 and ind_var13_medio are equals.\n",
      "ind_var18_0 and ind_var18 are equals.\n",
      "ind_var26_0 and ind_var26 are equals.\n",
      "ind_var25_0 and ind_var25 are equals.\n",
      "ind_var32_0 and ind_var32 are equals.\n",
      "ind_var34_0 and ind_var34 are equals.\n",
      "ind_var37_0 and ind_var37 are equals.\n",
      "ind_var40 and ind_var39 are equals.\n",
      "num_var6_0 and num_var29_0 are equals.\n",
      "num_var6 and num_var29 are equals.\n",
      "num_var13_medio_0 and num_var13_medio are equals.\n",
      "num_var18_0 and num_var18 are equals.\n",
      "num_var26_0 and num_var26 are equals.\n",
      "num_var25_0 and num_var25 are equals.\n",
      "num_var32_0 and num_var32 are equals.\n",
      "num_var34_0 and num_var34 are equals.\n",
      "num_var37_0 and num_var37 are equals.\n",
      "num_var40 and num_var39 are equals.\n",
      "saldo_var6 and saldo_var29 are equals.\n",
      "saldo_var13_medio and saldo_medio_var13_medio_ult1 are equals.\n",
      "delta_imp_reemb_var13_1y3 and delta_num_reemb_var13_1y3 are equals.\n",
      "delta_imp_reemb_var17_1y3 and delta_num_reemb_var17_1y3 are equals.\n",
      "delta_imp_reemb_var33_1y3 and delta_num_reemb_var33_1y3 are equals.\n",
      "delta_imp_trasp_var17_in_1y3 and delta_num_trasp_var17_in_1y3 are equals.\n",
      "delta_imp_trasp_var17_out_1y3 and delta_num_trasp_var17_out_1y3 are equals.\n",
      "delta_imp_trasp_var33_in_1y3 and delta_num_trasp_var33_in_1y3 are equals.\n",
      "delta_imp_trasp_var33_out_1y3 and delta_num_trasp_var33_out_1y3 are equals.\n"
     ]
    }
   ],
   "source": [
    "##### Removing identical features\n",
    "features_pair <- combn(names(train), 2, simplify = F)\n",
    "toRemove <- c()\n",
    "for(pair in features_pair) {\n",
    "    f1 <- pair[1]\n",
    "    f2 <- pair[2]\n",
    "    \n",
    "    if (!(f1 %in% toRemove) & !(f2 %in% toRemove)) {\n",
    "        if (all(train[[f1]] == train[[f2]])) {\n",
    "            cat(f1, \"and\", f2, \"are equals.\\n\")\n",
    "            toRemove <- c(toRemove, f2)\n",
    "        }\n",
    "    }\n",
    "}\n",
    "\n",
    "feature.names <- setdiff(names(train), toRemove)\n",
    "\n",
    "train <- train[, feature.names]\n",
    "test <- test[, feature.names]\n",
    "\n",
    "train$TARGET <- train.y"
   ]
  },
  {
   "cell_type": "code",
   "execution_count": 3,
   "metadata": {
    "collapsed": true
   },
   "outputs": [],
   "source": [
    "train <- sparse.model.matrix(TARGET ~ ., data = train)\n",
    "\n",
    "dtrain <- xgb.DMatrix(data=train, label=train.y)\n",
    "watchlist <- list(train=dtrain)"
   ]
  },
  {
   "cell_type": "code",
   "execution_count": 6,
   "metadata": {
    "collapsed": false
   },
   "outputs": [],
   "source": [
    "param <- list(  objective           = \"binary:logistic\", \n",
    "                booster             = \"gbtree\",\n",
    "                eval_metric         = \"auc\",\n",
    "                eta                 = 0.02,\n",
    "                max_depth           = 8,\n",
    "                subsample           = 0.9,\n",
    "                colsample_bytree    = 0.85\n",
    ")\n",
    "\n",
    "xgb.cv <- xgboost(  params              = param, \n",
    "                    data                = dtrain, \n",
    "                    nrounds             = nrd, \n",
    "                    verbose             = 0,\n",
    "                    watchlist           = watchlist,\n",
    "                    maximize            = FALSE)"
   ]
  },
  {
   "cell_type": "code",
   "execution_count": null,
   "metadata": {
    "collapsed": false
   },
   "outputs": [],
   "source": [
    "res <- xgb.cv(params = param, data = dtrain, \n",
    "              stratified = TRUE,\n",
    "              nrounds = 350, early.stop.round = 50,\n",
    "              nfold = 4, \n",
    "              print.every.n = 50,\n",
    "              prediction = FALSE)"
   ]
  },
  {
   "cell_type": "code",
   "execution_count": null,
   "metadata": {
    "collapsed": true
   },
   "outputs": [],
   "source": []
  }
 ],
 "metadata": {
  "kernelspec": {
   "display_name": "R",
   "language": "R",
   "name": "ir"
  },
  "language_info": {
   "codemirror_mode": "r",
   "file_extension": ".r",
   "mimetype": "text/x-r-source",
   "name": "R",
   "pygments_lexer": "r",
   "version": "3.2.2"
  }
 },
 "nbformat": 4,
 "nbformat_minor": 0
}
