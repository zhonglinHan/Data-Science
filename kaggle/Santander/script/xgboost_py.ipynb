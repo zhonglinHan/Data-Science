{
 "cells": [
  {
   "cell_type": "code",
   "execution_count": 1,
   "metadata": {
    "collapsed": false
   },
   "outputs": [],
   "source": [
    "# This Python 3 environment comes with many helpful analytics libraries installed\n",
    "# It is defined by the kaggle/python docker image: https://github.com/kaggle/docker-python\n",
    "# For example, here's several helpful packages to load in \n",
    "\n",
    "import numpy as np # linear algebra\n",
    "import pandas as pd # data processing, CSV file I/O (e.g. pd.read_csv)\n",
    "\n",
    "# For example, running this (by clicking run or pressing Shift+Enter) will list the files in the input directory"
   ]
  },
  {
   "cell_type": "code",
   "execution_count": 2,
   "metadata": {
    "collapsed": false
   },
   "outputs": [
    {
     "name": "stdout",
     "output_type": "stream",
     "text": [
      "(76020, 370)\n",
      "(75818, 369)\n"
     ]
    }
   ],
   "source": [
    "import matplotlib.pyplot as plt\n",
    "%matplotlib inline\n",
    "\n",
    "pd.set_option('display.precision', 5)\n",
    "\n",
    "training = pd.read_csv(\"../input/train.csv\", index_col=0)\n",
    "test = pd.read_csv(\"../input/test.csv\", index_col=0)\n",
    "\n",
    "print training.shape\n",
    "print test.shape\n",
    "\n",
    "X = training.iloc[:,:-1]\n",
    "y = training.TARGET"
   ]
  },
  {
   "cell_type": "markdown",
   "metadata": {},
   "source": [
    "## XGBClassifier"
   ]
  },
  {
   "cell_type": "code",
   "execution_count": null,
   "metadata": {
    "collapsed": false
   },
   "outputs": [],
   "source": [
    "import xgboost as xgb\n",
    "from sklearn.cross_validation import train_test_split\n",
    "\n",
    "\n",
    "X_train, X_test, y_train, y_test = train_test_split(X, y, random_state=0)\n",
    "clf = xgb.XGBClassifier(max_depth=6, n_estimators=30, learning_rate=0.3,\n",
    "                       objective=\"binary:logistic\", gamma=0, min_child_weight=1, max_delta_step=0,\n",
    "                        subsample=1, colsample_bytree=1, colsample_bylevel=1,\n",
    "                         reg_alpha=0, reg_lambda=1, scale_pos_weight=1,\n",
    "                         base_score=0.5, seed=0, missing=None)\n",
    "clf.fit(X_train, y_train, early_stopping_rounds=10, eval_metric=\"auc\", verbose = 0,\n",
    "        eval_set=[(X_test, y_test)])\n",
    "        \n",
    "y_pred = clf.predict(test)"
   ]
  },
  {
   "cell_type": "code",
   "execution_count": null,
   "metadata": {
    "collapsed": false
   },
   "outputs": [],
   "source": [
    "y_pred = clf.predict_proba(test)\n",
    "y_pred[:,1]"
   ]
  },
  {
   "cell_type": "markdown",
   "metadata": {},
   "source": [
    "## Cross Validation with XGBClassifier"
   ]
  },
  {
   "cell_type": "code",
   "execution_count": null,
   "metadata": {
    "collapsed": false
   },
   "outputs": [],
   "source": [
    "from sklearn.cross_validation import cross_val_score\n",
    "import xgboost as xgb\n",
    "\"\"\"\n",
    "clf = xgb.XGBClassifier(max_depth=6, n_estimators=30, learning_rate=0.3,\n",
    "                       objective=\"binary:logistic\", gamma=0, min_child_weight=1, max_delta_step=0,\n",
    "                        subsample=1, colsample_bytree=1, colsample_bylevel=1,\n",
    "                         reg_alpha=0, reg_lambda=1, scale_pos_weight=1,\n",
    "                         base_score=0.5, seed=0, missing=None)\n",
    "\"\"\"\n",
    "\n",
    "clf = xgb.XGBClassifier(missing=np.nan, max_depth=5, n_estimators=525, \n",
    "                        learning_rate=0.02, nthread=4, subsample=0.95, \n",
    "                        colsample_bytree=0.85, seed=4242)\n",
    "\n",
    "res = cross_val_score(clf, X, y, scoring = \"roc_auc\", cv = 10, n_jobs = 4, verbose = 0)\n",
    "print \"AUC score mean = \", np.mean(res), \" +/- \", np.std(res), \" = \", np.mean(res) - np.std(res)"
   ]
  },
  {
   "cell_type": "code",
   "execution_count": 5,
   "metadata": {
    "collapsed": false
   },
   "outputs": [
    {
     "data": {
      "text/plain": [
       "GridSearchCV(cv=5, error_score='raise',\n",
       "       estimator=XGBClassifier(base_score=0.5, colsample_bylevel=1, colsample_bytree=1,\n",
       "       gamma=0, learning_rate=0.1, max_delta_step=0, max_depth=3,\n",
       "       min_child_weight=1, missing=None, n_estimators=100, nthread=-1,\n",
       "       objective='binary:logistic', reg_alpha=0, reg_lambda=1,\n",
       "       scale_pos_weight=1, seed=0, silent=True, subsample=1),\n",
       "       fit_params={}, iid=True, n_jobs=1,\n",
       "       param_grid={'reg_alpha': [0], 'scale_pos_weight': [1], 'learning_rate': [0.1, 0.2, 0.3], 'max_delta_step': [0], 'n_estimators': [30], 'colsample_bytree': [1], 'min_child_weight': [1], 'subsample': [1], 'reg_lambda': [1], 'max_depth': [6, 8, 10, 12], 'gamma': [0]},\n",
       "       pre_dispatch='2*n_jobs', refit=False, scoring='roc_auc', verbose=0)"
      ]
     },
     "execution_count": 5,
     "metadata": {},
     "output_type": "execute_result"
    }
   ],
   "source": [
    "from sklearn.grid_search import GridSearchCV\n",
    "import xgboost as xgb\n",
    "\n",
    "params = {'n_estimators':[30],\n",
    "          'learning_rate':[0.1, 0.2, 0.3],\n",
    "          'max_depth':[6, 8, 10, 12],\n",
    "          'min_child_weight':[1],\n",
    "          'max_delta_step':[0],\n",
    "          'subsample':[1],\n",
    "          'gamma':[0],\n",
    "          'colsample_bytree':[1],\n",
    "          'reg_lambda':[1],\n",
    "          'reg_alpha':[0], \n",
    "          'scale_pos_weight':[1]\n",
    "         }\n",
    "\n",
    "clf = xgb.XGBClassifier(objective='binary:logistic',base_score=0.5, seed=0, missing=None)\n",
    "gs = GridSearchCV(clf, params, cv=5, scoring=\"roc_auc\", verbose= 0, refit=False)\n",
    "gs.fit(X,y)"
   ]
  },
  {
   "cell_type": "code",
   "execution_count": 10,
   "metadata": {
    "collapsed": false
   },
   "outputs": [
    {
     "data": {
      "text/plain": [
       "{'colsample_bytree': 1,\n",
       " 'gamma': 0,\n",
       " 'learning_rate': 0.2,\n",
       " 'max_delta_step': 0,\n",
       " 'max_depth': 6,\n",
       " 'min_child_weight': 1,\n",
       " 'n_estimators': 30,\n",
       " 'reg_alpha': 0,\n",
       " 'reg_lambda': 1,\n",
       " 'scale_pos_weight': 1,\n",
       " 'subsample': 1}"
      ]
     },
     "execution_count": 10,
     "metadata": {},
     "output_type": "execute_result"
    }
   ],
   "source": [
    "pd.DataFrame(gs.grid_scores_).iloc[4].parameters"
   ]
  },
  {
   "cell_type": "markdown",
   "metadata": {},
   "source": [
    "## remove std == 0 columns"
   ]
  },
  {
   "cell_type": "code",
   "execution_count": 5,
   "metadata": {
    "collapsed": true
   },
   "outputs": [],
   "source": [
    "remove = []\n",
    "for col in training.columns:\n",
    "    if training[col].std() == 0:\n",
    "        remove.append(col)\n",
    "training.drop(remove, axis=1, inplace=True)\n",
    "test.drop(remove, axis=1, inplace=True)\n",
    "X = training.iloc[:,:-1]\n",
    "y = training.TARGET"
   ]
  },
  {
   "cell_type": "markdown",
   "metadata": {},
   "source": [
    "## Xgboost.train"
   ]
  },
  {
   "cell_type": "code",
   "execution_count": 6,
   "metadata": {
    "collapsed": false
   },
   "outputs": [],
   "source": [
    "import xgboost as xgb\n",
    "\n",
    "# Xgboost.train\n",
    "#params = {\"objective\": \"binary:logistic\", \"booster\": \"gbtree\", \"eval_metric\":\"auc\"}\n",
    "\n",
    "train_xgb = xgb.DMatrix(X, y)\n",
    "test_xgb  = xgb.DMatrix(test)"
   ]
  },
  {
   "cell_type": "markdown",
   "metadata": {},
   "source": [
    "## Part A : Cross Validation"
   ]
  },
  {
   "cell_type": "code",
   "execution_count": 13,
   "metadata": {
    "collapsed": false
   },
   "outputs": [
    {
     "name": "stdout",
     "output_type": "stream",
     "text": [
      "| nround =  309 | test auc mean =  0.8422889 | test auc std =  0.0118551899643\n"
     ]
    }
   ],
   "source": [
    "\"\"\"\n",
    "xgboost.train with params\n",
    "clf = xgb.XGBClassifier(missing=np.nan, max_depth=5, n_estimators=350, \n",
    "                        learning_rate=0.03, nthread=4, subsample=0.95, \n",
    "                        colsample_bytree=0.85, seed=4242)\n",
    "\"\"\"\n",
    "params = {\"objective\": \"binary:logistic\", \n",
    "          \"booster\": \"gbtree\",\n",
    "          \"eta\":0.025,\n",
    "          \"gamma\":1,\n",
    "          \"max_depth\":6,\n",
    "          \"min_child_weight\":1,\n",
    "          \"max_delta_step \":0,\n",
    "          \"subsample\":0.77,\n",
    "          \"colsample_bytree\":0.65,\n",
    "          \"lambda\":1,\n",
    "          \"alpha\":0,\n",
    "          \"eval_metric\":\"auc\"}\n",
    "\n",
    "gbm_cv =  xgb.cv(params, train_xgb, num_boost_round=900, nfold=10,\n",
    "                 as_pandas = True,\n",
    "                 seed = 42)\n",
    "gbm_cv = gbm_cv.reset_index()\n",
    "\n",
    "nrd = gbm_cv['test-auc-mean'].idxmax()\n",
    "auc_mean_optim = gbm_cv.iloc[nrd]['test-auc-mean']\n",
    "auc_std_optim = gbm_cv.iloc[nrd]['test-auc-std']\n",
    "print \"| nround = \", nrd, \"| test auc mean = \",auc_mean_optim,\"| test auc std = \", auc_std_optim"
   ]
  },
  {
   "cell_type": "code",
   "execution_count": 14,
   "metadata": {
    "collapsed": false
   },
   "outputs": [
    {
     "data": {
      "text/plain": [
       "<matplotlib.axes._subplots.AxesSubplot at 0x7f8670bac0d0>"
      ]
     },
     "execution_count": 14,
     "metadata": {},
     "output_type": "execute_result"
    },
    {
     "data": {
      "image/png": "[encoded data removed]",
      "text/plain": [
       "<matplotlib.figure.Figure at 0x7f86708d6350>"
      ]
     },
     "metadata": {},
     "output_type": "display_data"
    }
   ],
   "source": [
    "ax = gbm_cv.plot(x = 'index', y = 'test-auc-mean', kind = 'line', yerr = 'test-auc-std')\n",
    "gbm_cv.plot(x = 'index', y = 'train-auc-mean', kind = 'line', yerr = 'train-auc-std', ax = ax,\n",
    "           figsize = (12,6))"
   ]
  },
  {
   "cell_type": "code",
   "execution_count": 15,
   "metadata": {
    "collapsed": false
   },
   "outputs": [
    {
     "data": {
      "text/plain": [
       "<matplotlib.axes._subplots.AxesSubplot at 0x7f8670bc5390>"
      ]
     },
     "execution_count": 15,
     "metadata": {},
     "output_type": "execute_result"
    },
    {
     "data": {
      "image/png": "[encoded data removed]",
      "text/plain": [
       "<matplotlib.figure.Figure at 0x7f8670bc0910>"
      ]
     },
     "metadata": {},
     "output_type": "display_data"
    }
   ],
   "source": [
    "ax = gbm_cv.plot(x = 'index', y = 'test-auc-mean', kind = 'line')\n",
    "gbm_cv.plot(x = 'index', y = 'train-auc-mean', kind = 'line', ax = ax,\n",
    "           figsize = (12,6))"
   ]
  },
  {
   "cell_type": "markdown",
   "metadata": {},
   "source": [
    "## Part B : Submission"
   ]
  },
  {
   "cell_type": "code",
   "execution_count": 23,
   "metadata": {
    "collapsed": true
   },
   "outputs": [],
   "source": [
    "gbm = xgb.train(params, train_xgb, num_boost_round= 27, verbose_eval  = 4)\n",
    "y_pred = gbm.predict(test_xgb)\n",
    "\n",
    "submission = pd.DataFrame({\"ID\":test.index, \"TARGET\":y_pred})\n",
    "submission.to_csv(\"../output/mar08_submission.csv\", index=False)"
   ]
  },
  {
   "cell_type": "markdown",
   "metadata": {},
   "source": [
    "## remove columns std == 0"
   ]
  },
  {
   "cell_type": "code",
   "execution_count": null,
   "metadata": {
    "collapsed": true
   },
   "outputs": [],
   "source": [
    "remove = []\n",
    "for col in training.columns:\n",
    "    if training[col].std() == 0:\n",
    "        remove.append(col)\n",
    "training.drop(remove, axis=1, inplace=True)\n",
    "test.drop(remove, axis=1, inplace=True)\n",
    "X = training.iloc[:,:-1]\n",
    "y = training.TARGET"
   ]
  },
  {
   "cell_type": "code",
   "execution_count": null,
   "metadata": {
    "collapsed": true
   },
   "outputs": [],
   "source": [
    "# Xgboost \n",
    "#params = {\"objective\": \"binary:logistic\", \"booster\": \"gbtree\", \"eval_metric\":\"auc\"}\n",
    "\n",
    "#train_xgb = xgb.DMatrix(X, y)\n",
    "#test_xgb  = xgb.DMatrix(test)\n",
    "\n",
    "gbm = xgb.train(params, train_xgb, 20)\n",
    "y_pred = gbm.predict(test_xgb)\n",
    "\n",
    "submission = pd.DataFrame({\"ID\":test.index, \"TARGET\":y_pred})\n",
    "submission.to_csv(\"submission.csv\", index=False)"
   ]
  },
  {
   "cell_type": "markdown",
   "metadata": {},
   "source": [
    "## Xgboost Tuning with xgboost.cv"
   ]
  },
  {
   "cell_type": "code",
   "execution_count": 39,
   "metadata": {
    "collapsed": false
   },
   "outputs": [],
   "source": [
    "def xgb_tuning(eta, max_depth):\n",
    "    params = {\"objective\": \"binary:logistic\", \n",
    "          \"booster\": \"gbtree\",\n",
    "          \"eta\": eta,\n",
    "          \"gamma\":0,\n",
    "          \"max_depth\":max_depth,\n",
    "          \"min_child_weight\":1,\n",
    "          \"max_delta_step \":0,\n",
    "          \"subsample\":1,\n",
    "          \"colsample_bytree\":1,\n",
    "          \"lambda\":1,\n",
    "          \"alpha\":0,\n",
    "          \"eval_metric\":\"auc\"}\n",
    "\n",
    "    gbm_cv =  xgb.cv(params, train_xgb, num_boost_round=200, nfold=5,\n",
    "                 as_pandas = True,\n",
    "                 seed = 0)\n",
    "    gbm_cv = gbm_cv.reset_index()\n",
    "\n",
    "    nrd = gbm_cv['test-auc-mean'].idxmax()\n",
    "    auc_mean_optim = gbm_cv.iloc[nrd]['test-auc-mean']\n",
    "    auc_std_optim = gbm_cv.iloc[nrd]['test-auc-std']\n",
    "    print \"eta = \",eta, \"| max_depth = \", max_depth, \"| nround = \", nrd, \"| test auc mean = \",auc_mean_optim,\"| test auc std = \", auc_std_optim\n",
    "    return (eta, max_depth, nrd, auc_mean_optim, auc_std_optim)"
   ]
  },
  {
   "cell_type": "code",
   "execution_count": 42,
   "metadata": {
    "collapsed": false
   },
   "outputs": [
    {
     "name": "stdout",
     "output_type": "stream",
     "text": [
      "eta =  0.5 | max_depth =  4 | nround =  12 | test auc mean =  0.8341462 | test auc std =  0.0055649602119\n",
      "eta =  0.5 | max_depth =  6 | nround =  8 | test auc mean =  0.8330814 | test auc std =  0.00532081161478\n",
      "eta =  0.5 | max_depth =  8 | nround =  6 | test auc mean =  0.8305728 | test auc std =  0.00708904801507\n",
      "eta =  0.5 | max_depth =  10 | nround =  4 | test auc mean =  0.825487 | test auc std =  0.00509812848014\n",
      "eta =  0.5 | max_depth =  12 | nround =  5 | test auc mean =  0.822734 | test auc std =  0.00615888220378\n",
      "eta =  0.5 | max_depth =  14 | nround =  4 | test auc mean =  0.8183702 | test auc std =  0.0078573302947\n",
      "eta =  0.5 | max_depth =  16 | nround =  4 | test auc mean =  0.818417 | test auc std =  0.00672237413419\n",
      "eta =  0.5 | max_depth =  18 | nround =  1 | test auc mean =  0.8150612 | test auc std =  0.00659261214998\n",
      "eta =  0.1 | max_depth =  4 | nround =  112 | test auc mean =  0.8379158 | test auc std =  0.00475608626499\n"
     ]
    },
    {
     "ename": "KeyboardInterrupt",
     "evalue": "",
     "output_type": "error",
     "traceback": [
      "\u001b[1;31m---------------------------------------------------------------------------\u001b[0m",
      "\u001b[1;31mKeyboardInterrupt\u001b[0m                         Traceback (most recent call last)",
      "\u001b[1;32m<ipython-input-42-af8c3c276e33>\u001b[0m in \u001b[0;36m<module>\u001b[1;34m()\u001b[0m\n\u001b[0;32m      5\u001b[0m \u001b[1;32mfor\u001b[0m \u001b[0meta\u001b[0m \u001b[1;32min\u001b[0m \u001b[0metalist\u001b[0m\u001b[1;33m:\u001b[0m\u001b[1;33m\u001b[0m\u001b[0m\n\u001b[0;32m      6\u001b[0m     \u001b[1;32mfor\u001b[0m \u001b[0mmax_depth\u001b[0m \u001b[1;32min\u001b[0m \u001b[0mmax_depthlist\u001b[0m\u001b[1;33m:\u001b[0m\u001b[1;33m\u001b[0m\u001b[0m\n\u001b[1;32m----> 7\u001b[1;33m         \u001b[0mres_temp\u001b[0m \u001b[1;33m=\u001b[0m \u001b[0mxgb_tuning\u001b[0m\u001b[1;33m(\u001b[0m\u001b[0meta\u001b[0m\u001b[1;33m,\u001b[0m \u001b[0mmax_depth\u001b[0m\u001b[1;33m)\u001b[0m\u001b[1;33m\u001b[0m\u001b[0m\n\u001b[0m\u001b[0;32m      8\u001b[0m         \u001b[0mreslist\u001b[0m\u001b[1;33m.\u001b[0m\u001b[0mappend\u001b[0m\u001b[1;33m(\u001b[0m\u001b[0mres_temp\u001b[0m\u001b[1;33m)\u001b[0m\u001b[1;33m\u001b[0m\u001b[0m\n\u001b[0;32m      9\u001b[0m \u001b[1;33m\u001b[0m\u001b[0m\n",
      "\u001b[1;32m<ipython-input-39-eca89dfa37da>\u001b[0m in \u001b[0;36mxgb_tuning\u001b[1;34m(eta, max_depth)\u001b[0m\n\u001b[0;32m     15\u001b[0m     gbm_cv =  xgb.cv(params, train_xgb, num_boost_round=200, nfold=5,\n\u001b[0;32m     16\u001b[0m                  \u001b[0mas_pandas\u001b[0m \u001b[1;33m=\u001b[0m \u001b[0mTrue\u001b[0m\u001b[1;33m,\u001b[0m\u001b[1;33m\u001b[0m\u001b[0m\n\u001b[1;32m---> 17\u001b[1;33m                  seed = 0)\n\u001b[0m\u001b[0;32m     18\u001b[0m     \u001b[0mgbm_cv\u001b[0m \u001b[1;33m=\u001b[0m \u001b[0mgbm_cv\u001b[0m\u001b[1;33m.\u001b[0m\u001b[0mreset_index\u001b[0m\u001b[1;33m(\u001b[0m\u001b[1;33m)\u001b[0m\u001b[1;33m\u001b[0m\u001b[0m\n\u001b[0;32m     19\u001b[0m \u001b[1;33m\u001b[0m\u001b[0m\n",
      "\u001b[1;32m/home/ubuntu/anaconda/lib/python2.7/site-packages/xgboost-0.4-py2.7.egg/xgboost/training.pyc\u001b[0m in \u001b[0;36mcv\u001b[1;34m(params, dtrain, num_boost_round, nfold, metrics, obj, feval, maximize, early_stopping_rounds, fpreproc, as_pandas, show_progress, show_stdv, seed)\u001b[0m\n\u001b[0;32m    421\u001b[0m         \u001b[1;32mfor\u001b[0m \u001b[0mfold\u001b[0m \u001b[1;32min\u001b[0m \u001b[0mcvfolds\u001b[0m\u001b[1;33m:\u001b[0m\u001b[1;33m\u001b[0m\u001b[0m\n\u001b[0;32m    422\u001b[0m             \u001b[0mfold\u001b[0m\u001b[1;33m.\u001b[0m\u001b[0mupdate\u001b[0m\u001b[1;33m(\u001b[0m\u001b[0mi\u001b[0m\u001b[1;33m,\u001b[0m \u001b[0mobj\u001b[0m\u001b[1;33m)\u001b[0m\u001b[1;33m\u001b[0m\u001b[0m\n\u001b[1;32m--> 423\u001b[1;33m         res = aggcv([f.eval(i, feval) for f in cvfolds],\n\u001b[0m\u001b[0;32m    424\u001b[0m                     \u001b[0mshow_stdv\u001b[0m\u001b[1;33m=\u001b[0m\u001b[0mshow_stdv\u001b[0m\u001b[1;33m,\u001b[0m \u001b[0mshow_progress\u001b[0m\u001b[1;33m=\u001b[0m\u001b[0mshow_progress\u001b[0m\u001b[1;33m,\u001b[0m\u001b[1;33m\u001b[0m\u001b[0m\n\u001b[0;32m    425\u001b[0m                     as_pandas=as_pandas, trial=i)\n",
      "\u001b[1;32m/home/ubuntu/anaconda/lib/python2.7/site-packages/xgboost-0.4-py2.7.egg/xgboost/training.pyc\u001b[0m in \u001b[0;36meval\u001b[1;34m(self, iteration, feval)\u001b[0m\n\u001b[0;32m    259\u001b[0m     \u001b[1;32mdef\u001b[0m \u001b[0meval\u001b[0m\u001b[1;33m(\u001b[0m\u001b[0mself\u001b[0m\u001b[1;33m,\u001b[0m \u001b[0miteration\u001b[0m\u001b[1;33m,\u001b[0m \u001b[0mfeval\u001b[0m\u001b[1;33m)\u001b[0m\u001b[1;33m:\u001b[0m\u001b[1;33m\u001b[0m\u001b[0m\n\u001b[0;32m    260\u001b[0m         \u001b[1;34m\"\"\"\"Evaluate the CVPack for one iteration.\"\"\"\u001b[0m\u001b[1;33m\u001b[0m\u001b[0m\n\u001b[1;32m--> 261\u001b[1;33m         \u001b[1;32mreturn\u001b[0m \u001b[0mself\u001b[0m\u001b[1;33m.\u001b[0m\u001b[0mbst\u001b[0m\u001b[1;33m.\u001b[0m\u001b[0meval_set\u001b[0m\u001b[1;33m(\u001b[0m\u001b[0mself\u001b[0m\u001b[1;33m.\u001b[0m\u001b[0mwatchlist\u001b[0m\u001b[1;33m,\u001b[0m \u001b[0miteration\u001b[0m\u001b[1;33m,\u001b[0m \u001b[0mfeval\u001b[0m\u001b[1;33m)\u001b[0m\u001b[1;33m\u001b[0m\u001b[0m\n\u001b[0m\u001b[0;32m    262\u001b[0m \u001b[1;33m\u001b[0m\u001b[0m\n\u001b[0;32m    263\u001b[0m \u001b[1;33m\u001b[0m\u001b[0m\n",
      "\u001b[1;32m/home/ubuntu/anaconda/lib/python2.7/site-packages/xgboost-0.4-py2.7.egg/xgboost/core.pyc\u001b[0m in \u001b[0;36meval_set\u001b[1;34m(self, evals, iteration, feval)\u001b[0m\n\u001b[0;32m    753\u001b[0m             _check_call(_LIB.XGBoosterEvalOneIter(self.handle, iteration,\n\u001b[0;32m    754\u001b[0m                                                   \u001b[0mdmats\u001b[0m\u001b[1;33m,\u001b[0m \u001b[0mevnames\u001b[0m\u001b[1;33m,\u001b[0m \u001b[0mlen\u001b[0m\u001b[1;33m(\u001b[0m\u001b[0mevals\u001b[0m\u001b[1;33m)\u001b[0m\u001b[1;33m,\u001b[0m\u001b[1;33m\u001b[0m\u001b[0m\n\u001b[1;32m--> 755\u001b[1;33m                                                   ctypes.byref(msg)))\n\u001b[0m\u001b[0;32m    756\u001b[0m             \u001b[1;32mreturn\u001b[0m \u001b[0mmsg\u001b[0m\u001b[1;33m.\u001b[0m\u001b[0mvalue\u001b[0m\u001b[1;33m\u001b[0m\u001b[0m\n\u001b[0;32m    757\u001b[0m         \u001b[1;32melse\u001b[0m\u001b[1;33m:\u001b[0m\u001b[1;33m\u001b[0m\u001b[0m\n",
      "\u001b[1;31mKeyboardInterrupt\u001b[0m: "
     ]
    }
   ],
   "source": [
    "etalist = [0.5, 0.1, 0.15, 0.2, 0.25]\n",
    "max_depthlist = [4, 6, 8, 10, 12, 14, 16, 18]\n",
    "\n",
    "reslist = []\n",
    "for eta in etalist:\n",
    "    for max_depth in max_depthlist:\n",
    "        res_temp = xgb_tuning(eta, max_depth)\n",
    "        reslist.append(res_temp)\n",
    "        \n",
    "df_res = pd.DataFrame(reslist, columns = ['eta', 'max_depth', 'nround', 'auc_mean','auc_std'])"
   ]
  },
  {
   "cell_type": "code",
   "execution_count": null,
   "metadata": {
    "collapsed": true
   },
   "outputs": [],
   "source": []
  }
 ],
 "metadata": {
  "kernelspec": {
   "display_name": "Python 2",
   "language": "python",
   "name": "python2"
  },
  "language_info": {
   "codemirror_mode": {
    "name": "ipython",
    "version": 2
   },
   "file_extension": ".py",
   "mimetype": "text/x-python",
   "name": "python",
   "nbconvert_exporter": "python",
   "pygments_lexer": "ipython2",
   "version": "2.7.11"
  }
 },
 "nbformat": 4,
 "nbformat_minor": 0
}
