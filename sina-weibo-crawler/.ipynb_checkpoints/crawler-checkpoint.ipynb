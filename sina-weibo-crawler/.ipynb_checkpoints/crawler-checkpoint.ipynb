{
 "cells": [
  {
   "cell_type": "code",
   "execution_count": 1,
   "metadata": {
    "collapsed": true
   },
   "outputs": [],
   "source": [
    "# -*- coding: utf-8 -*-\n",
    "from wcrawler import *"
   ]
  },
  {
   "cell_type": "code",
   "execution_count": 2,
   "metadata": {
    "collapsed": false
   },
   "outputs": [
    {
     "name": "stderr",
     "output_type": "stream",
     "text": [
      "http://weibo.cn/yaochen\n",
      "http://weibo.cn/1266321801/info\n",
      "http://weibo.cn/1266321801/fans\n",
      "{\n",
      "    \"birthday\": \"\", \n",
      "    \"fans\": [], \n",
      "    \"follow\": [], \n",
      "    \"gender\": \"女\", \n",
      "    \"good_at\": \"\", \n",
      "    \"location\": \"北京 朝阳区\", \n",
      "    \"nickname\": \"姚晨\", \n",
      "    \"num_fans\": 78984022, \n",
      "    \"num_follow\": 456, \n",
      "    \"num_weibo\": 8390, \n",
      "    \"relationship_status\": \"\", \n",
      "    \"self-intro\": \"\", \n",
      "    \"sexual_orientation\": \"\", \n",
      "    \"tags\": [], \n",
      "    \"url\": \"http://weibo.cn/yaochen\", \n",
      "    \"verify_info\": \"演员，联合国难民署中国亲善大使。\", \n",
      "    \"verify_type\": \"RED_V\", \n",
      "    \"weibo\": [\n",
      "        \"转发了 周星驰电影美人鱼 的微博:千呼万唤始出来，犹抱人鱼半遮面，周星驰电影《#美人鱼#》曝终极预告，正式宣布进入最终倒计时！预告片中大气、爱情、无厘头成关键词，震撼而颠覆想象，但依然保持星爷“猜不透”的风格，影片上映在即，吊足胃口！#美人鱼大年初一#一探究竟！@邓超 @羅志祥 @张雨绮 @林允Jelly http://t.cn/RbrWTXC [组图共4张]转发理由:星爷的电影代表着高品质，也永远都让人期待！[鲜花]#美人鱼大年初一#   \", \n",
      "        \"转发了 微天下 的微博:【揪心画面重现 小难民伏尸土耳其海滩】数月前，叙利亚3岁小难民艾兰伏尸土耳其海滩的照片曾让全世界为之陷入悲伤。而就在昨日，一艘载有120人的难民船在前往希腊途中，在土耳其附近海域沉没，致使39人遇难，其中就包括数名儿童[伤心]……（新浪） [组图共8张]转发理由:[伤心][伤心][伤心]  \", \n",
      "        \"99班师生的敖包相会。虽然大部分已为人父母，但每回聚到一块儿，立马回归少女时代。老师不老，我们没变，一切都好！[爱你][haha]@演员杨志刚 @黄小闪闪闪 @王雪玉大熊猫 @马元 @贾延龙 @制片人于飞 [组图共9张] 原图 \", \n",
      "        \"转发了 新浪读书 的微博:#从牙医到作家的余华# 我在“牙齿店”干了五年,观看了数以万计的张开的嘴巴,我感到无聊之极,我倒是知道了世界上什么地方最没有风景,就是在嘴巴里。我相信文学是由那些柔弱同时又是无比丰富和敏感的心灵创造的,让我们心领神会和激动失眠,让我们远隔千里仍然互相热爱,让我们生离死别后还是互相热爱。 继续阅读转发理由:转发微博  \", \n",
      "        \"转发了 姚晨 的微博:新年临近，寒冬袭来，添衣服，置年货！我愿意与@微公益 #一起9加1#，并在2月1日小年这天正式邀请大家：1人捐出100元，帮助那些生活困难的家庭，让他们这个冬天不太“冷”！跟我一起，帮他们过个温暖年！[爱心]️@中国互联网发展基金会转发理由:感谢《过年好》剧组的高群书导演和制片人王兵的慷慨解囊，也预祝票房大卖！[赞][握手] //@王兵的围脖:我加一万，让孩子们过好年。 //@他回精神病院了:我捐一万，让孩子们过好年。  \", \n",
      "        \"转发了 财经网 的微博:【下班分享】12岁的小正太唱给暗恋姑娘的歌[xkl你拍一啊]~ 多么美好！http://t.cn/Rb1JYeU 转发理由:虽然搁我们这边算早恋，但这男孩儿实在可爱！在他的眼睛里，爱是多么美好明亮的色彩。[彩虹]  \", \n",
      "        \"新年临近，寒冬袭来，添衣服，置年货！我愿意与@微公益 #一起9加1#，并在2月1日小年这天正式邀请大家：1人捐出100元，帮助那些生活困难的家庭，让他们这个冬天不太“冷”！跟我一起，帮他们过个温暖年！[爱心]️@中国互联网发展基金会 原图 \", \n",
      "        \"【美基金会寻找南京大屠杀幸存者：世界还想了解他们】从2012年末开始，美国某基金会与南京大屠杀遇难同胞纪念馆合作，寻找幸存者，用影像的方式记录他们的回忆。基金会主管说：“这或许是我们最后一次能够直接采访这些幸存者了。这个世界还想了解他们。”（《洛杉矶时报》）http://t.cn/Rbm8zSZ 原图 \", \n",
      "        \"土豆有灯两盏。一蓝一黄，一冷一暖。他高兴时，拎着猫头鹰满屋乱转；发脾气时，抓起小兔子摔在地上。尽管如此，两盏灯毫无怨言还在发光。[doge][灯泡] 原图 \", \n",
      "        \"转发了 稀土部队 的微博:Hello爸爸妈妈的朋友们：我是醒醒小盆友，今天我满月啦!!! 玩了一下午，现在要去呼呼了！bye-bye[鲜花] [组图共3张]转发理由:醒醒小盆友，平安幸福，满月快乐！[爱你][鲜花][礼物]  \"\n",
      "    ]\n",
      "}"
     ]
    },
    {
     "ename": "TypeError",
     "evalue": "write() takes exactly 2 arguments (3 given)",
     "output_type": "error",
     "traceback": [
      "\u001b[1;31m---------------------------------------------------------------------------\u001b[0m",
      "\u001b[1;31mTypeError\u001b[0m                                 Traceback (most recent call last)",
      "\u001b[1;32m<ipython-input-2-da02cda4d928>\u001b[0m in \u001b[0;36m<module>\u001b[1;34m()\u001b[0m\n\u001b[0;32m      2\u001b[0m     \u001b[1;31m# please change to your own cookie\u001b[0m\u001b[1;33m\u001b[0m\u001b[1;33m\u001b[0m\u001b[0m\n\u001b[0;32m      3\u001b[0m     \u001b[0mcrawler\u001b[0m \u001b[1;33m=\u001b[0m \u001b[0mWCrawler\u001b[0m\u001b[1;33m(\u001b[0m\u001b[0mcookie\u001b[0m \u001b[1;33m=\u001b[0m \u001b[1;34m'_T_WM=1764ed14d4a61ef43ab86ce292307697; SUHB=0G0veCMff5FczB; SUB=_2A257Qs6KDeTxGeRP6VYZ9yrLzz2IHXVYzNLCrDV6PUJbrdAKLWvFkW1D2q2amgN3BCri-O-SXueGVG-2Rg..; gsid_CTandWM=4urb5d951ez5pXptyT36L8UMabX'\u001b[0m\u001b[1;33m,\u001b[0m         \u001b[0mmax_num_weibo\u001b[0m \u001b[1;33m=\u001b[0m \u001b[1;36m10\u001b[0m\u001b[1;33m,\u001b[0m         \u001b[0mmax_num_fans\u001b[0m \u001b[1;33m=\u001b[0m \u001b[1;36m10\u001b[0m\u001b[1;33m,\u001b[0m         \u001b[0mmax_num_follow\u001b[0m \u001b[1;33m=\u001b[0m \u001b[1;36m10\u001b[0m\u001b[1;33m,\u001b[0m         \u001b[0mwfilter\u001b[0m \u001b[1;33m=\u001b[0m \u001b[1;34m'all'\u001b[0m\u001b[1;33m,\u001b[0m         \u001b[0mreturn_type\u001b[0m \u001b[1;33m=\u001b[0m \u001b[1;34m'string'\u001b[0m\u001b[1;33m)\u001b[0m\u001b[1;33m\u001b[0m\u001b[0m\n\u001b[1;32m----> 4\u001b[1;33m     \u001b[1;32mprint\u001b[0m \u001b[0mcrawler\u001b[0m\u001b[1;33m.\u001b[0m\u001b[0mcrawl\u001b[0m\u001b[1;33m(\u001b[0m\u001b[0murl\u001b[0m \u001b[1;33m=\u001b[0m \u001b[1;34m'http://weibo.cn/yaochen'\u001b[0m\u001b[1;33m)\u001b[0m\u001b[1;33m\u001b[0m\u001b[0m\n\u001b[0m",
      "\u001b[1;32m/home/ubuntu/Data-Science/sina-weibo-crawler/wcrawler.py\u001b[0m in \u001b[0;36mcrawl\u001b[1;34m(self, url)\u001b[0m\n\u001b[0;32m    123\u001b[0m         \u001b[1;31m# step 3: crawl user's fans list\u001b[0m\u001b[1;33m\u001b[0m\u001b[1;33m\u001b[0m\u001b[0m\n\u001b[0;32m    124\u001b[0m         \u001b[1;32mif\u001b[0m \u001b[0mself\u001b[0m\u001b[1;33m.\u001b[0m\u001b[0mmax_num_fans\u001b[0m \u001b[1;33m>\u001b[0m \u001b[1;36m0\u001b[0m \u001b[1;32mand\u001b[0m \u001b[0mself\u001b[0m\u001b[1;33m.\u001b[0m\u001b[0mdata\u001b[0m\u001b[1;33m[\u001b[0m\u001b[1;34m'num_fans'\u001b[0m\u001b[1;33m]\u001b[0m \u001b[1;33m>\u001b[0m \u001b[1;36m0\u001b[0m\u001b[1;33m:\u001b[0m\u001b[1;33m\u001b[0m\u001b[0m\n\u001b[1;32m--> 125\u001b[1;33m             \u001b[0mreq\u001b[0m \u001b[1;33m=\u001b[0m \u001b[0mself\u001b[0m\u001b[1;33m.\u001b[0m\u001b[0m__get_request\u001b[0m\u001b[1;33m(\u001b[0m\u001b[0mfans_url\u001b[0m\u001b[1;33m)\u001b[0m\u001b[1;33m\u001b[0m\u001b[0m\n\u001b[0m\u001b[0;32m    126\u001b[0m             \u001b[0msoup\u001b[0m \u001b[1;33m=\u001b[0m \u001b[0mBeautifulSoup\u001b[0m\u001b[1;33m(\u001b[0m\u001b[0mreq\u001b[0m\u001b[1;33m.\u001b[0m\u001b[0mtext\u001b[0m\u001b[1;33m,\u001b[0m \u001b[1;34m'lxml'\u001b[0m\u001b[1;33m)\u001b[0m\u001b[1;33m\u001b[0m\u001b[0m\n\u001b[0;32m    127\u001b[0m             \u001b[0mfans_max_page\u001b[0m \u001b[1;33m=\u001b[0m \u001b[0mself\u001b[0m\u001b[1;33m.\u001b[0m\u001b[0m__parse_max_pages\u001b[0m\u001b[1;33m(\u001b[0m\u001b[0msoup\u001b[0m\u001b[1;33m)\u001b[0m\u001b[1;33m\u001b[0m\u001b[0m\n",
      "\u001b[1;32m/home/ubuntu/Data-Science/sina-weibo-crawler/wcrawler.py\u001b[0m in \u001b[0;36m__get_request\u001b[1;34m(self, url, max_try)\u001b[0m\n\u001b[0;32m    256\u001b[0m         \u001b[1;31m# Should not reach here if everything is ok.\u001b[0m\u001b[1;33m\u001b[0m\u001b[1;33m\u001b[0m\u001b[0m\n\u001b[0;32m    257\u001b[0m         \u001b[0mstderr\u001b[0m\u001b[1;33m.\u001b[0m\u001b[0mwrite\u001b[0m\u001b[1;33m(\u001b[0m\u001b[0mjson\u001b[0m\u001b[1;33m.\u001b[0m\u001b[0mdumps\u001b[0m\u001b[1;33m(\u001b[0m\u001b[0mself\u001b[0m\u001b[1;33m.\u001b[0m\u001b[0mdata\u001b[0m\u001b[1;33m,\u001b[0m \u001b[0mensure_ascii\u001b[0m\u001b[1;33m=\u001b[0m\u001b[0mFalse\u001b[0m\u001b[1;33m,\u001b[0m \u001b[0msort_keys\u001b[0m\u001b[1;33m=\u001b[0m\u001b[0mTrue\u001b[0m\u001b[1;33m,\u001b[0m \u001b[0mindent\u001b[0m\u001b[1;33m=\u001b[0m\u001b[1;36m4\u001b[0m\u001b[1;33m)\u001b[0m\u001b[1;33m.\u001b[0m\u001b[0mencode\u001b[0m\u001b[1;33m(\u001b[0m\u001b[1;34m'utf-8'\u001b[0m\u001b[1;33m,\u001b[0m \u001b[1;34m'replace'\u001b[0m\u001b[1;33m)\u001b[0m\u001b[1;33m)\u001b[0m\u001b[1;33m\u001b[0m\u001b[0m\n\u001b[1;32m--> 258\u001b[1;33m         \u001b[0mstderr\u001b[0m\u001b[1;33m.\u001b[0m\u001b[0mwrite\u001b[0m\u001b[1;33m(\u001b[0m\u001b[1;34m'Error: %s\\n'\u001b[0m\u001b[1;33m,\u001b[0m \u001b[0murl\u001b[0m\u001b[1;33m)\u001b[0m\u001b[1;33m\u001b[0m\u001b[0m\n\u001b[0m\u001b[0;32m    259\u001b[0m         \u001b[0mexit\u001b[0m\u001b[1;33m(\u001b[0m\u001b[1;36m1\u001b[0m\u001b[1;33m)\u001b[0m\u001b[1;33m\u001b[0m\u001b[0m\n\u001b[0;32m    260\u001b[0m \u001b[1;33m\u001b[0m\u001b[0m\n",
      "\u001b[1;31mTypeError\u001b[0m: write() takes exactly 2 arguments (3 given)"
     ]
    }
   ],
   "source": [
    "if __name__ == '__main__':\n",
    "    # please change to your own cookie\n",
    "    crawler = WCrawler(cookie = '_T_WM=1764ed14d4a61ef43ab86ce292307697; SUHB=0G0veCMff5FczB; SUB=_2A257Qs6KDeTxGeRP6VYZ9yrLzz2IHXVYzNLCrDV6PUJbrdAKLWvFkW1D2q2amgN3BCri-O-SXueGVG-2Rg..; gsid_CTandWM=4urb5d951ez5pXptyT36L8UMabX', \\\n",
    "        max_num_weibo = 10, \\\n",
    "        max_num_fans = 10, \\\n",
    "        max_num_follow = 10, \\\n",
    "        wfilter = 'all', \\\n",
    "        return_type = 'string')\n",
    "    print crawler.crawl(url = 'http://weibo.cn/yaochen')"
   ]
  },
  {
   "cell_type": "code",
   "execution_count": null,
   "metadata": {
    "collapsed": true
   },
   "outputs": [],
   "source": []
  }
 ],
 "metadata": {
  "kernelspec": {
   "display_name": "Python 2",
   "language": "python",
   "name": "python2"
  },
  "language_info": {
   "codemirror_mode": {
    "name": "ipython",
    "version": 2
   },
   "file_extension": ".py",
   "mimetype": "text/x-python",
   "name": "python",
   "nbconvert_exporter": "python",
   "pygments_lexer": "ipython2",
   "version": "2.7.11"
  }
 },
 "nbformat": 4,
 "nbformat_minor": 0
}
