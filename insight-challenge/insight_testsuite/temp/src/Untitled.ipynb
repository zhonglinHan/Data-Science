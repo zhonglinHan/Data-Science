{
 "cells": [
  {
   "cell_type": "code",
   "execution_count": 1,
   "metadata": {
    "collapsed": true
   },
   "outputs": [],
   "source": [
    "import sys\n",
    "import json\n",
    "import string\n",
    "import datetime"
   ]
  },
  {
   "cell_type": "code",
   "execution_count": 8,
   "metadata": {
    "collapsed": true
   },
   "outputs": [],
   "source": [
    "def tweet_parse(tweet):\n",
    "    #tweet = json.loads(line)\n",
    "    time = tweet['created_at']\n",
    "    \"\"\"Avoid retweeted status multi texts\"\"\"\n",
    "    if 'retweeted_status' in tweet:\n",
    "        text = tweet['retweeted_status']['text']\n",
    "    else:\n",
    "        text = tweet['text']\n",
    "    hashtags = [hashtag['text'] for hashtag in tweet['entities']['hashtags']]\n",
    "    uniquetags = list(set(hashtags))\n",
    "    return [time, uniquetags]    "
   ]
  },
  {
   "cell_type": "code",
   "execution_count": 19,
   "metadata": {
    "collapsed": false
   },
   "outputs": [],
   "source": [
    "from pprint import pprint\n",
    "\n",
    "data = []\n",
    "with open('../tweet_input/tweets.txt') as fin:\n",
    "    for line in fin:\n",
    "        data.append(json.loads(line, encoding='utf-8'))"
   ]
  },
  {
   "cell_type": "code",
   "execution_count": 65,
   "metadata": {
    "collapsed": false
   },
   "outputs": [
    {
     "name": "stdout",
     "output_type": "stream",
     "text": [
      "None\n"
     ]
    }
   ],
   "source": [
    "lis = [1, 0]\n",
    "lis.append(12)\n",
    "lis = lis.remove(lis[len(lis) - 1])\n",
    "print lis"
   ]
  },
  {
   "cell_type": "code",
   "execution_count": 39,
   "metadata": {
    "collapsed": false
   },
   "outputs": [
    {
     "data": {
      "text/plain": [
       "datetime.datetime(2016, 4, 4, 20, 20, 17, 424958)"
      ]
     },
     "execution_count": 39,
     "metadata": {},
     "output_type": "execute_result"
    }
   ],
   "source": [
    "datetime.datetime.now()"
   ]
  },
  {
   "cell_type": "code",
   "execution_count": null,
   "metadata": {
    "collapsed": true
   },
   "outputs": [],
   "source": []
  }
 ],
 "metadata": {
  "kernelspec": {
   "display_name": "Python 2",
   "language": "python",
   "name": "python2"
  },
  "language_info": {
   "codemirror_mode": {
    "name": "ipython",
    "version": 2
   },
   "file_extension": ".py",
   "mimetype": "text/x-python",
   "name": "python",
   "nbconvert_exporter": "python",
   "pygments_lexer": "ipython2",
   "version": "2.7.11"
  }
 },
 "nbformat": 4,
 "nbformat_minor": 0
}
