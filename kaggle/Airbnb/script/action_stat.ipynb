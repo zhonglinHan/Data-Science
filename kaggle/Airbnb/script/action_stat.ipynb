{
 "cells": [
  {
   "cell_type": "code",
   "execution_count": 1,
   "metadata": {
    "collapsed": true
   },
   "outputs": [],
   "source": [
    "import numpy as np\n",
    "import pandas as pd\n",
    "from sklearn import preprocessing\n",
    "\n",
    "def sessions_stats(group):\n",
    "    group.fillna(0, inplace=True)\n",
    "\n",
    "    if group.count() == 0:\n",
    "        return {'sessions_total_duration': group.max() - group.min(),\n",
    "                'average_action_duration': 0,\n",
    "                'actions_total_count': 0}\n",
    "    else:\n",
    "        return {'sessions_total_duration': group.max() - group.min(),\n",
    "                'average_action_duration': (group.max() - group.min()) / group.count(),\n",
    "                'actions_total_count': group.count()}"
   ]
  },
  {
   "cell_type": "code",
   "execution_count": 2,
   "metadata": {
    "collapsed": true
   },
   "outputs": [],
   "source": [
    "    # two scalers we use\n",
    "sessions_scaler = preprocessing.MinMaxScaler(feature_range=(0, 100))\n",
    "action_scaler = lambda x: np.sqrt(x/3600)\n",
    "\n",
    "df_sessions = pd.read_csv('../input/sessions.csv')\n",
    "\n",
    "    # gather sessions total & average durations from 'secs_elapsed' column,\n",
    "    # which will be droped lately, apply external function\n",
    "df_sstats = df_sessions['secs_elapsed'].groupby(\n",
    "df_sessions['user_id'] ).apply(sessions_stats).unstack()"
   ]
  },
  {
   "cell_type": "code",
   "execution_count": 3,
   "metadata": {
    "collapsed": true
   },
   "outputs": [],
   "source": [
    "# scale features for better distribution\n",
    "df_sstats['actions_total_count'] = df_sstats['actions_total_count'].apply(action_scaler)\n",
    "df_sstats['average_action_duration'] = df_sstats['average_action_duration'].apply(action_scaler)\n",
    "\n",
    "# normalization of new features + convert them to int\n",
    "# to avoid possible later scientific notation\n",
    "normalize_feats = ['actions_total_count',\n",
    "                   'average_action_duration', 'sessions_total_duration']"
   ]
  },
  {
   "cell_type": "code",
   "execution_count": 4,
   "metadata": {
    "collapsed": true
   },
   "outputs": [],
   "source": [
    "for f in normalize_feats:\n",
    "    df_sstats[f] = sessions_scaler.fit_transform(df_sstats[f].reshape(-1, 1)).astype(int)\n",
    "\n",
    "# take rest of the columns for OHE\n",
    "df_sactions = df_sessions.groupby(\n",
    "          ['user_id', 'action_detail', 'action_type'], as_index=False ).count()\n",
    "# Drop 'secs_elapsed', already aggregated to something usefull,\n",
    "# 'device_type' already in 'train_users_2', 'action' redundant\n",
    "df_sactions.drop( ['secs_elapsed', 'action', 'device_type'],\n",
    "        axis=1, inplace=True)"
   ]
  },
  {
   "cell_type": "code",
   "execution_count": 5,
   "metadata": {
    "collapsed": false
   },
   "outputs": [],
   "source": [
    "# one-hot-encoding sessions features\n",
    "ohe_features = ['action_detail', 'action_type']\n",
    "\n",
    "for f in ohe_features:\n",
    "    df_dummy = pd.get_dummies(df_sactions[f], prefix=f)\n",
    "    df_sactions.drop([f], axis=1, inplace = True)\n",
    "    df_sactions = pd.concat((df_sactions, df_dummy.astype(int)), axis=1)"
   ]
  },
  {
   "cell_type": "code",
   "execution_count": 6,
   "metadata": {
    "collapsed": true
   },
   "outputs": [],
   "source": [
    "# merge OHE to single row\n",
    "df_sactions = df_sactions.groupby(['user_id']).sum().reset_index()\n",
    "\n",
    "# join them all into single DataFrame\n",
    "df_joined = df_sactions.join(df_sstats, on=['user_id'], how='left')\n",
    "df_joined.rename(columns={'user_id': 'id'}, inplace=True)\n",
    "\n",
    "pd.DataFrame(df_joined).to_csv('./sessions_action_stat.csv',\n",
    "        sep=',', header=True, index=False)"
   ]
  }
 ],
 "metadata": {
  "kernelspec": {
   "display_name": "Python 2",
   "language": "python",
   "name": "python2"
  },
  "language_info": {
   "codemirror_mode": {
    "name": "ipython",
    "version": 2
   },
   "file_extension": ".py",
   "mimetype": "text/x-python",
   "name": "python",
   "nbconvert_exporter": "python",
   "pygments_lexer": "ipython2",
   "version": "2.7.11"
  }
 },
 "nbformat": 4,
 "nbformat_minor": 0
}
