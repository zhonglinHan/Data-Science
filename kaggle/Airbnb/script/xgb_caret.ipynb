{
 "cells": [
  {
   "cell_type": "code",
   "execution_count": 1,
   "metadata": {
    "collapsed": false
   },
   "outputs": [
    {
     "name": "stderr",
     "output_type": "stream",
     "text": [
      "Loading required package: lattice\n",
      "Loading required package: ggplot2\n"
     ]
    }
   ],
   "source": [
    "library(xgboost)\n",
    "library(readr)\n",
    "library(stringr)\n",
    "library(caret)\n",
    "library(car)\n",
    "\n",
    "set.seed(1)"
   ]
  },
  {
   "cell_type": "code",
   "execution_count": 2,
   "metadata": {
    "collapsed": true
   },
   "outputs": [],
   "source": [
    "ndcg5 <- function(preds, dtrain) {\n",
    "\n",
    "  labels <- getinfo(dtrain,\"label\")\n",
    "  num.class = 12\n",
    "  pred <- matrix(preds, nrow = num.class)\n",
    "  top <- t(apply(pred, 2, function(y) order(y)[num.class:(num.class-4)]-1))\n",
    "  \n",
    "  x <- ifelse(top==labels,1,0)\n",
    "  dcg <- function(y) sum((2^y - 1)/log(2:(length(y)+1), base = 2))\n",
    "  ndcg <- mean(apply(x,1,dcg))\n",
    "  return(list(metric = \"ndcg5\", value = ndcg))\n",
    "}"
   ]
  },
  {
   "cell_type": "code",
   "execution_count": 3,
   "metadata": {
    "collapsed": true
   },
   "outputs": [],
   "source": [
    "# load data\n",
    "df_train = read_csv(\"../input/train_users_2.csv\")\n",
    "df_test = read_csv(\"../input/test_users.csv\")\n",
    "labels = df_train['country_destination']\n",
    "df_train = df_train[-grep('country_destination', colnames(df_train))]\n",
    "\n",
    "# combine train and test data\n",
    "df_all = rbind(df_train,df_test)\n",
    "# remove date_first_booking\n",
    "df_all = df_all[-c(which(colnames(df_all) %in% c('date_first_booking')))]\n",
    "# replace missing values\n",
    "df_all[is.na(df_all)] <- -1\n",
    "\n",
    "# split date_account_created in year, month and day\n",
    "dac = as.data.frame(str_split_fixed(df_all$date_account_created, '-', 3))\n",
    "df_all['dac_year'] = dac[,1]\n",
    "df_all['dac_month'] = dac[,2]\n",
    "df_all['dac_day'] = dac[,3]\n",
    "df_all = df_all[,-c(which(colnames(df_all) %in% c('date_account_created')))]\n",
    "\n",
    "# split timestamp_first_active in year, month and day\n",
    "df_all[,'tfa_year'] = substring(as.character(df_all[,'timestamp_first_active']), 1, 4)\n",
    "df_all['tfa_month'] = substring(as.character(df_all['timestamp_first_active']), 5, 6)\n",
    "df_all['tfa_day'] = substring(as.character(df_all['timestamp_first_active']), 7, 8)\n",
    "df_all = df_all[,-c(which(colnames(df_all) %in% c('timestamp_first_active')))]\n",
    "\n",
    "# clean Age by removing values\n",
    "df_all[df_all$age < 14 | df_all$age > 100,'age'] <- -1"
   ]
  },
  {
   "cell_type": "code",
   "execution_count": 4,
   "metadata": {
    "collapsed": true
   },
   "outputs": [],
   "source": [
    "# one-hot-encoding features\n",
    "ohe_feats = c('gender', 'signup_method', 'signup_flow', 'language', 'affiliate_channel', 'affiliate_provider', 'first_affiliate_tracked', 'signup_app', 'first_device_type', 'first_browser')\n",
    "dummies <- dummyVars(~ gender + signup_method + signup_flow + language + affiliate_channel + affiliate_provider + first_affiliate_tracked + signup_app + first_device_type + first_browser, data = df_all)\n",
    "df_all_ohe <- as.data.frame(predict(dummies, newdata = df_all))\n",
    "df_all_combined <- cbind(df_all[,-c(which(colnames(df_all) %in% ohe_feats))],df_all_ohe)"
   ]
  },
  {
   "cell_type": "code",
   "execution_count": 5,
   "metadata": {
    "collapsed": true
   },
   "outputs": [],
   "source": [
    "# split train and test\n",
    "X = df_all_combined[df_all_combined$id %in% df_train$id,]\n",
    "y <- recode(labels$country_destination,\"'NDF'=0; 'US'=1;\n",
    "            'other'=2; 'FR'=3; 'CA'=4; 'GB'=5; 'ES'=6; 'IT'=7;\n",
    "            'PT'=8; 'NL'=9; 'DE'=10; 'AU'=11\")\n",
    "X_test = df_all_combined[df_all_combined$id %in% df_test$id,]"
   ]
  },
  {
   "cell_type": "code",
   "execution_count": null,
   "metadata": {
    "collapsed": false
   },
   "outputs": [
    {
     "name": "stderr",
     "output_type": "stream",
     "text": [
      "Warning message:\n",
      ": parameter seed is ignored, please set random seed using set.seed"
     ]
    }
   ],
   "source": [
    "# train xgboost\n",
    " \n",
    "xgb <- xgboost(data = data.matrix(X[,-1]), \n",
    "               label = y, \n",
    "               eta = 0.001,\n",
    "               max_depth = 10, \n",
    "               nround = 200, \n",
    "               subsample = 0.5,\n",
    "               colsample_bytree = 0.5,\n",
    "               seed = 1,\n",
    "               eval_metric = ndcg5,\n",
    "               objective = \"multi:softprob\",\n",
    "               num_class = 12,\n",
    "               nthread = 4\n",
    ")\n",
    "\n",
    "# predict values in test set\n",
    "y_pred <- predict(xgb, data.matrix(X_test[,-1]))\n",
    "\n",
    "# extract the 5 classes with highest probabilities\n",
    "predictions <- as.data.frame(matrix(y_pred, nrow=12))\n",
    "rownames(predictions) <- c('NDF','US','other','FR','CA','GB','ES','IT','PT','NL','DE','AU')\n",
    "predictions_top5 <- as.vector(apply(predictions, 2, function(x) names(sort(x)[12:8])))\n"
   ]
  },
  {
   "cell_type": "code",
   "execution_count": null,
   "metadata": {
    "collapsed": true
   },
   "outputs": [],
   "source": [
    "# predict values in test set\n",
    "y_pred <- predict(xgb, data.matrix(X_test[,-1]))\n",
    "\n",
    "# extract the 5 classes with highest probabilities\n",
    "predictions <- as.data.frame(matrix(y_pred, nrow=12))\n",
    "rownames(predictions) <- c('NDF','US','other','FR','CA','GB','ES','IT','PT','NL','DE','AU')\n",
    "predictions_top5 <- as.vector(apply(predictions, 2, function(x) names(sort(x)[12:8])))\n",
    "\n",
    "# create submission \n",
    "ids <- NULL\n",
    "for (i in 1:NROW(X_test)) {\n",
    "  idx <- X_test$id[i]\n",
    "  ids <- append(ids, rep(idx,5))\n",
    "}\n",
    "submission <- NULL\n",
    "submission$id <- ids\n",
    "submission$country <- predictions_top5\n",
    "\n",
    "# generate submission file\n",
    "submission <- as.data.frame(submission)\n",
    "write.csv(submission, \"sub_feb10.csv\", quote=FALSE, row.names = FALSE)"
   ]
  },
  {
   "cell_type": "markdown",
   "metadata": {},
   "source": [
    "## Cross Validation"
   ]
  },
  {
   "cell_type": "code",
   "execution_count": 57,
   "metadata": {
    "collapsed": false
   },
   "outputs": [],
   "source": [
    "set.seed(123)\n",
    "\n",
    "#dtrain <- xgb.DMatrix(data.matrix(X[,-1]), label = y)\n",
    "params <- list(eta = 0.3,\n",
    "               max_depth = 1, \n",
    "               subsample = 0.5,\n",
    "               colsample_bytree = 0.5,\n",
    "               eval_metric = ndcg5,\n",
    "               objective = \"multi:softprob\",\n",
    "               num_class = 12)\n",
    "\n",
    "xgb.cv <- xgboost(params,\n",
    "                  data = data.matrix(X[,-1]),\n",
    "                  label = y,\n",
    "                  nround = 8,\n",
    "                  nfold = 4,\n",
    "                  nthread = 4,\n",
    "                  verbose = 0\n",
    ")\n",
    "\n"
   ]
  },
  {
   "cell_type": "code",
   "execution_count": 56,
   "metadata": {
    "collapsed": false
   },
   "outputs": [
    {
     "name": "stdout",
     "output_type": "stream",
     "text": [
      "max_depth = 10 | nround = 100"
     ]
    }
   ],
   "source": [
    "num_rounds = 100\n",
    "maximum_depth = 10\n",
    "cat(\"max_depth =\", maximum_depth, \"| nround =\", num_rounds)"
   ]
  },
  {
   "cell_type": "code",
   "execution_count": 58,
   "metadata": {
    "collapsed": false
   },
   "outputs": [
    {
     "name": "stdout",
     "output_type": "stream",
     "text": [
      "[0]\ttrain-ndcg5:0.806484+0.000520\ttest-ndcg5:0.806500+0.000489\n",
      "[1]\ttrain-ndcg5:0.806753+0.000234\ttest-ndcg5:0.806684+0.000680\n",
      "[2]\ttrain-ndcg5:0.806755+0.000241\ttest-ndcg5:0.806726+0.000650\n",
      "[3]\ttrain-ndcg5:0.806769+0.000226\ttest-ndcg5:0.806721+0.000642\n",
      "[4]\ttrain-ndcg5:0.807006+0.000308\ttest-ndcg5:0.806916+0.000991\n",
      "[5]\ttrain-ndcg5:0.807418+0.000636\ttest-ndcg5:0.807302+0.001225\n",
      "[6]\ttrain-ndcg5:0.807906+0.000846\ttest-ndcg5:0.807873+0.001273\n",
      "[7]\ttrain-ndcg5:0.808631+0.000835\ttest-ndcg5:0.808643+0.000554\n"
     ]
    }
   ],
   "source": [
    "res <- xgb.cv(params = params, data = dtrain, nrounds = 8, nfold = 4, prediction = FALSE)"
   ]
  },
  {
   "cell_type": "markdown",
   "metadata": {
    "collapsed": false
   },
   "source": [
    "## Grid Search"
   ]
  },
  {
   "cell_type": "code",
   "execution_count": null,
   "metadata": {
    "collapsed": true
   },
   "outputs": [],
   "source": [
    "xgb_grid_1 = expand.grid(nrounds = 25,\n",
    "                        eta = c(0.01, 0.001, 0.0001),\n",
    "                        max_depth = c(2,4, 6,8, 10, 12, 14),\n",
    "                        gamma = 1)"
   ]
  },
  {
   "cell_type": "code",
   "execution_count": null,
   "metadata": {
    "collapsed": true
   },
   "outputs": [],
   "source": [
    "xgb_train_control = trainControl(\n",
    "    method = \"cv\",\n",
    "    number = 5,\n",
    "    verboseIter = TRUE,\n",
    "    returnData = FALSE,\n",
    "    returnResamp = \"all\",\n",
    "    classProbs = TRUE,\n",
    "    summaryFunction = twoClassSummary,\n",
    "    allowParallel = TRUE\n",
    ")"
   ]
  },
  {
   "cell_type": "code",
   "execution_count": null,
   "metadata": {
    "collapsed": false
   },
   "outputs": [],
   "source": [
    "xgb_train_1 = train(\n",
    "  x = data.matrix(X[,-1]), \n",
    "  y = y, \n",
    "  trControl = xgb_train_control,\n",
    "  tuneGrid = xgb_grid_1,\n",
    "  method = \"xgbTree\"\n",
    ")"
   ]
  },
  {
   "cell_type": "code",
   "execution_count": null,
   "metadata": {
    "collapsed": false
   },
   "outputs": [],
   "source": [
    "xgb_tune <- train(x = data.matrix(X[,-1]), \n",
    "                  y = y, \n",
    "                  method = \"xgbTree\",\n",
    "                  trControl = xgb_train_control,\n",
    "                  tunGrid = xgb_grid_1,\n",
    "                  verbose = T,\n",
    "                  subsample = 0.5,\n",
    "                  colsample_bytree = 0.5,\n",
    "                  seed = 1,\n",
    "                  eval_metric = ndcg5,\n",
    "                  objective = \"multi:softprob\",\n",
    "                  num_class = 12,\n",
    "                  nthread = 4,\n",
    ")"
   ]
  },
  {
   "cell_type": "code",
   "execution_count": null,
   "metadata": {
    "collapsed": true
   },
   "outputs": [],
   "source": []
  }
 ],
 "metadata": {
  "kernelspec": {
   "display_name": "R",
   "language": "R",
   "name": "ir"
  },
  "language_info": {
   "codemirror_mode": "r",
   "file_extension": ".r",
   "mimetype": "text/x-r-source",
   "name": "R",
   "pygments_lexer": "r",
   "version": "3.2.2"
  }
 },
 "nbformat": 4,
 "nbformat_minor": 0
}
