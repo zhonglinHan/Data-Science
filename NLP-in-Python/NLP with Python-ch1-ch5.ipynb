{
 "cells": [
  {
   "cell_type": "markdown",
   "metadata": {},
   "source": [
    "## 1.1 Computing with Language : Text and words"
   ]
  },
  {
   "cell_type": "code",
   "execution_count": 1,
   "metadata": {
    "collapsed": false
   },
   "outputs": [
    {
     "name": "stdout",
     "output_type": "stream",
     "text": [
      "*** Introductory Examples for the NLTK Book ***\n",
      "Loading text1, ..., text9 and sent1, ..., sent9\n",
      "Type the name of the text or sentence to view it.\n",
      "Type: 'texts()' or 'sents()' to list the materials.\n",
      "text1: Moby Dick by Herman Melville 1851\n",
      "text2: Sense and Sensibility by Jane Austen 1811\n",
      "text3: The Book of Genesis\n",
      "text4: Inaugural Address Corpus\n",
      "text5: Chat Corpus\n",
      "text6: Monty Python and the Holy Grail\n",
      "text7: Wall Street Journal\n",
      "text8: Personals Corpus\n",
      "text9: The Man Who Was Thursday by G . K . Chesterton 1908\n"
     ]
    }
   ],
   "source": [
    "from nltk.book import *"
   ]
  },
  {
   "cell_type": "code",
   "execution_count": 3,
   "metadata": {
    "collapsed": false
   },
   "outputs": [
    {
     "name": "stdout",
     "output_type": "stream",
     "text": [
      "Displaying 11 of 11 matches:\n",
      "ong the former , one was of a most monstrous size . ... This came towards us , \n",
      "ON OF THE PSALMS . \" Touching that monstrous bulk of the whale or ork we have r\n",
      "ll over with a heathenish array of monstrous clubs and spears . Some were thick\n",
      "d as you gazed , and wondered what monstrous cannibal and savage could ever hav\n",
      "that has survived the flood ; most monstrous and most mountainous ! That Himmal\n",
      "they might scout at Moby Dick as a monstrous fable , or still worse and more de\n",
      "th of Radney .'\" CHAPTER 55 Of the Monstrous Pictures of Whales . I shall ere l\n",
      "ing Scenes . In connexion with the monstrous pictures of whales , I am strongly\n",
      "ere to enter upon those still more monstrous stories of them which are to be fo\n",
      "ght have been rummaged out of this monstrous cabinet there is no telling . But \n",
      "of Whale - Bones ; for Whales of a monstrous size are oftentimes cast up dead u\n"
     ]
    }
   ],
   "source": [
    "#Searching Text\n",
    "text1.concordance(\"monstrous\")"
   ]
  },
  {
   "cell_type": "code",
   "execution_count": 4,
   "metadata": {
    "collapsed": false
   },
   "outputs": [
    {
     "name": "stdout",
     "output_type": "stream",
     "text": [
      "imperial subtly impalpable pitiable curious abundant perilous\n",
      "trustworthy untoward singular lamentable few determined maddens\n",
      "horrible tyrannical lazy mystifying christian exasperate\n"
     ]
    }
   ],
   "source": [
    "text1.similar(\"monstrous\")"
   ]
  },
  {
   "cell_type": "code",
   "execution_count": 5,
   "metadata": {
    "collapsed": false
   },
   "outputs": [
    {
     "name": "stdout",
     "output_type": "stream",
     "text": [
      "a_pretty is_pretty a_lucky am_glad be_glad\n"
     ]
    }
   ],
   "source": [
    "text2.common_contexts([\"monstrous\", \"very\"])"
   ]
  },
  {
   "cell_type": "code",
   "execution_count": 9,
   "metadata": {
    "collapsed": false
   },
   "outputs": [
    {
     "data": {
      "image/png": "[encoded data removed]",
      "text/plain": [
       "<matplotlib.figure.Figure at 0x122298110>"
      ]
     },
     "metadata": {},
     "output_type": "display_data"
    }
   ],
   "source": [
    "%matplotlib inline\n",
    "text4.dispersion_plot([\"citizens\", \"democracy\", \"freedom\", \"duties\", \"America\"])"
   ]
  },
  {
   "cell_type": "code",
   "execution_count": 10,
   "metadata": {
    "collapsed": false
   },
   "outputs": [
    {
     "name": "stdout",
     "output_type": "stream",
     "text": [
      "total number of words in text3 :  44764\n",
      "[u'!', u\"'\", u'(', u')', u',', u',)', u'.', u'.)', u':', u';', u';)', u'?', u'?)', u'A', u'Abel', u'Abelmizraim', u'Abidah', u'Abide', u'Abimael', u'Abimelech', u'Abr', u'Abrah', u'Abraham', u'Abram', u'Accad', u'Achbor', u'Adah', u'Adam', u'Adbeel', u'Admah', u'Adullamite', u'After', u'Aholibamah', u'Ahuzzath', u'Ajah', u'Akan', u'All', u'Allonbachuth', u'Almighty', u'Almodad', u'Also', u'Alvah', u'Alvan', u'Am', u'Amal', u'Amalek', u'Amalekites', u'Ammon', u'Amorite', u'Amorites', u'Amraphel', u'An', u'Anah', u'Anamim', u'And', u'Aner', u'Angel', u'Appoint', u'Aram', u'Aran', u'Ararat', u'Arbah', u'Ard', u'Are', u'Areli', u'Arioch', u'Arise', u'Arkite', u'Arodi', u'Arphaxad', u'Art', u'Arvadite', u'As', u'Asenath', u'Ashbel', u'Asher', u'Ashkenaz', u'Ashteroth', u'Ask', u'Asshur', u'Asshurim', u'Assyr', u'Assyria', u'At', u'Atad', u'Avith', u'Baalhanan', u'Babel', u'Bashemath', u'Be', u'Because', u'Becher', u'Bedad', u'Beeri', u'Beerlahairoi', u'Beersheba', u'Behold', u'Bela', u'Belah', u'Benam', u'Benjamin', u'Beno', u'Beor', u'Bera', u'Bered', u'Beriah', u'Bethel', u'Bethlehem', u'Bethuel', u'Beware', u'Bilhah', u'Bilhan', u'Binding', u'Birsha', u'Bless', u'Blessed', u'Both', u'Bow', u'Bozrah', u'Bring', u'But', u'Buz', u'By', u'Cain', u'Cainan', u'Calah', u'Calneh', u'Can', u'Cana', u'Canaan', u'Canaanite', u'Canaanites', u'Canaanitish', u'Caphtorim', u'Carmi', u'Casluhim', u'Cast', u'Cause', u'Chaldees', u'Chedorlaomer', u'Cheran', u'Cherubims', u'Chesed', u'Chezib', u'Come', u'Cursed', u'Cush', u'Damascus', u'Dan', u'Day', u'Deborah', u'Dedan', u'Deliver', u'Diklah', u'Din', u'Dinah', u'Dinhabah', u'Discern', u'Dishan', u'Dishon', u'Do', u'Dodanim', u'Dothan', u'Drink', u'Duke', u'Dumah', u'Earth', u'Ebal', u'Eber', u'Edar', u'Eden', u'Edom', u'Edomites', u'Egy', u'Egypt', u'Egyptia', u'Egyptian', u'Egyptians', u'Ehi', u'Elah', u'Elam', u'Elbethel', u'Eldaah', u'EleloheIsrael', u'Eliezer', u'Eliphaz', u'Elishah', u'Ellasar', u'Elon', u'Elparan', u'Emins', u'En', u'Enmishpat', u'Eno', u'Enoch', u'Enos', u'Ephah', u'Epher', u'Ephra', u'Ephraim', u'Ephrath', u'Ephron', u'Er', u'Erech', u'Eri', u'Es', u'Esau', u'Escape', u'Esek', u'Eshban', u'Eshcol', u'Ethiopia', u'Euphrat', u'Euphrates', u'Eve', u'Even', u'Every', u'Except', u'Ezbon', u'Ezer', u'Fear', u'Feed', u'Fifteen', u'Fill', u'For', u'Forasmuch', u'Forgive', u'From', u'Fulfil', u'G', u'Gad', u'Gaham', u'Galeed', u'Gatam', u'Gather', u'Gaza', u'Gentiles', u'Gera', u'Gerar', u'Gershon', u'Get', u'Gether', u'Gihon', u'Gilead', u'Girgashites', u'Girgasite', u'Give', u'Go', u'God', u'Gomer', u'Gomorrah', u'Goshen', u'Guni', u'Hadad', u'Hadar', u'Hadoram', u'Hagar', u'Haggi', u'Hai', u'Ham', u'Hamathite', u'Hamor', u'Hamul', u'Hanoch', u'Happy', u'Haran', u'Hast', u'Haste', u'Have', u'Havilah', u'Hazarmaveth', u'Hazezontamar', u'Hazo', u'He', u'Hear', u'Heaven', u'Heber', u'Hebrew', u'Hebrews', u'Hebron', u'Hemam', u'Hemdan', u'Here', u'Hereby', u'Heth', u'Hezron', u'Hiddekel', u'Hinder', u'Hirah', u'His', u'Hitti', u'Hittite', u'Hittites', u'Hivite', u'Hobah', u'Hori', u'Horite', u'Horites', u'How', u'Hul', u'Huppim', u'Husham', u'Hushim', u'Huz', u'I', u'If', u'In', u'Irad', u'Iram', u'Is', u'Isa', u'Isaac', u'Iscah', u'Ishbak', u'Ishmael', u'Ishmeelites', u'Ishuah', u'Isra', u'Israel', u'Issachar', u'Isui', u'It', u'Ithran', u'Jaalam', u'Jabal', u'Jabbok', u'Jac', u'Jachin', u'Jacob', u'Jahleel', u'Jahzeel', u'Jamin', u'Japhe', u'Japheth', u'Jared', u'Javan', u'Jebusite', u'Jebusites', u'Jegarsahadutha', u'Jehovahjireh', u'Jemuel', u'Jerah', u'Jetheth', u'Jetur', u'Jeush', u'Jezer', u'Jidlaph', u'Jimnah', u'Job', u'Jobab', u'Jokshan', u'Joktan', u'Jordan', u'Joseph', u'Jubal', u'Judah', u'Judge', u'Judith', u'Kadesh', u'Kadmonites', u'Karnaim', u'Kedar', u'Kedemah', u'Kemuel', u'Kenaz', u'Kenites', u'Kenizzites', u'Keturah', u'Kiriathaim', u'Kirjatharba', u'Kittim', u'Know', u'Kohath', u'Kor', u'Korah', u'LO', u'LORD', u'Laban', u'Lahairoi', u'Lamech', u'Lasha', u'Lay', u'Leah', u'Lehabim', u'Lest', u'Let', u'Letushim', u'Leummim', u'Levi', u'Lie', u'Lift', u'Lo', u'Look', u'Lot', u'Lotan', u'Lud', u'Ludim', u'Luz', u'Maachah', u'Machir', u'Machpelah', u'Madai', u'Magdiel', u'Magog', u'Mahalaleel', u'Mahalath', u'Mahanaim', u'Make', u'Malchiel', u'Male', u'Mam', u'Mamre', u'Man', u'Manahath', u'Manass', u'Manasseh', u'Mash', u'Masrekah', u'Massa', u'Matred', u'Me', u'Medan', u'Mehetabel', u'Mehujael', u'Melchizedek', u'Merari', u'Mesha', u'Meshech', u'Mesopotamia', u'Methusa', u'Methusael', u'Methuselah', u'Mezahab', u'Mibsam', u'Mibzar', u'Midian', u'Midianites', u'Milcah', u'Mishma', u'Mizpah', u'Mizraim', u'Mizz', u'Moab', u'Moabites', u'Moreh', u'Moreover', u'Moriah', u'Muppim', u'My', u'Naamah', u'Naaman', u'Nahath', u'Nahor', u'Naphish', u'Naphtali', u'Naphtuhim', u'Nay', u'Nebajoth', u'Neither', u'Night', u'Nimrod', u'Nineveh', u'Noah', u'Nod', u'Not', u'Now', u'O', u'Obal', u'Of', u'Oh', u'Ohad', u'Omar', u'On', u'Onam', u'Onan', u'Only', u'Ophir', u'Our', u'Out', u'Padan', u'Padanaram', u'Paran', u'Pass', u'Pathrusim', u'Pau', u'Peace', u'Peleg', u'Peniel', u'Penuel', u'Peradventure', u'Perizzit', u'Perizzite', u'Perizzites', u'Phallu', u'Phara', u'Pharaoh', u'Pharez', u'Phichol', u'Philistim', u'Philistines', u'Phut', u'Phuvah', u'Pildash', u'Pinon', u'Pison', u'Potiphar', u'Potipherah', u'Put', u'Raamah', u'Rachel', u'Rameses', u'Rebek', u'Rebekah', u'Rehoboth', u'Remain', u'Rephaims', u'Resen', u'Return', u'Reu', u'Reub', u'Reuben', u'Reuel', u'Reumah', u'Riphath', u'Rosh', u'Sabtah', u'Sabtech', u'Said', u'Salah', u'Salem', u'Samlah', u'Sarah', u'Sarai', u'Saul', u'Save', u'Say', u'Se', u'Seba', u'See', u'Seeing', u'Seir', u'Sell', u'Send', u'Sephar', u'Serah', u'Sered', u'Serug', u'Set', u'Seth', u'Shalem', u'Shall', u'Shalt', u'Shammah', u'Shaul', u'Shaveh', u'She', u'Sheba', u'Shebah', u'Shechem', u'Shed', u'Shel', u'Shelah', u'Sheleph', u'Shem', u'Shemeber', u'Shepho', u'Shillem', u'Shiloh', u'Shimron', u'Shinab', u'Shinar', u'Shobal', u'Should', u'Shuah', u'Shuni', u'Shur', u'Sichem', u'Siddim', u'Sidon', u'Simeon', u'Sinite', u'Sitnah', u'Slay', u'So', u'Sod', u'Sodom', u'Sojourn', u'Some', u'Spake', u'Speak', u'Spirit', u'Stand', u'Succoth', u'Surely', u'Swear', u'Syrian', u'Take', u'Tamar', u'Tarshish', u'Tebah', u'Tell', u'Tema', u'Teman', u'Temani', u'Terah', u'Thahash', u'That', u'The', u'Then', u'There', u'Therefore', u'These', u'They', u'Thirty', u'This', u'Thorns', u'Thou', u'Thus', u'Thy', u'Tidal', u'Timna', u'Timnah', u'Timnath', u'Tiras', u'To', u'Togarmah', u'Tola', u'Tubal', u'Tubalcain', u'Twelve', u'Two', u'Unstable', u'Until', u'Unto', u'Up', u'Upon', u'Ur', u'Uz', u'Uzal', u'We', u'What', u'When', u'Whence', u'Where', u'Whereas', u'Wherefore', u'Which', u'While', u'Who', u'Whose', u'Whoso', u'Why', u'Wilt', u'With', u'Woman', u'Ye', u'Yea', u'Yet', u'Zaavan', u'Zaphnathpaaneah', u'Zar', u'Zarah', u'Zeboiim', u'Zeboim', u'Zebul', u'Zebulun', u'Zemarite', u'Zepho', u'Zerah', u'Zibeon', u'Zidon', u'Zillah', u'Zilpah', u'Zimran', u'Ziphion', u'Zo', u'Zoar', u'Zohar', u'Zuzims', u'a', u'abated', u'abide', u'able', u'abode', u'abomination', u'about', u'above', u'abroad', u'absent', u'abundantly', u'accept', u'accepted', u'according', u'acknowledged', u'activity', u'add', u'adder', u'afar', u'afflict', u'affliction', u'afraid', u'after', u'afterward', u'afterwards', u'aga', u'again', u'against', u'age', u'aileth', u'air', u'al', u'alive', u'all', u'almon', u'alo', u'alone', u'aloud', u'also', u'altar', u'altogether', u'always', u'am', u'among', u'amongst', u'an', u'and', u'angel', u'angels', u'anger', u'angry', u'anguish', u'anointedst', u'anoth', u'another', u'answer', u'answered', u'any', u'anything', u'appe', u'appear', u'appeared', u'appease', u'appoint', u'appointed', u'aprons', u'archer', u'archers', u'are', u'arise', u'ark', u'armed', u'arms', u'army', u'arose', u'arrayed', u'art', u'artificer', u'as', u'ascending', u'ash', u'ashamed', u'ask', u'asked', u'asketh', u'ass', u'assembly', u'asses', u'assigned', u'asswaged', u'at', u'attained', u'audience', u'avenged', u'aw', u'awaked', u'away', u'awoke', u'back', u'backward', u'bad', u'bade', u'badest', u'badne', u'bak', u'bake', u'bakemeats', u'baker', u'bakers', u'balm', u'bands', u'bank', u'bare', u'barr', u'barren', u'basket', u'baskets', u'battle', u'bdellium', u'be', u'bear', u'beari', u'bearing', u'beast', u'beasts', u'beautiful', u'became', u'because', u'become', u'bed', u'been', u'befall', u'befell', u'before', u'began', u'begat', u'beget', u'begettest', u'begin', u'beginning', u'begotten', u'beguiled', u'beheld', u'behind', u'behold', u'being', u'believed', u'belly', u'belong', u'beneath', u'bereaved', u'beside', u'besides', u'besought', u'best', u'betimes', u'better', u'between', u'betwixt', u'beyond', u'binding', u'bird', u'birds', u'birthday', u'birthright', u'biteth', u'bitter', u'blame', u'blameless', u'blasted', u'bless', u'blessed', u'blesseth', u'blessi', u'blessing', u'blessings', u'blindness', u'blood', u'blossoms', u'bodies', u'boldly', u'bondman', u'bondmen', u'bondwoman', u'bone', u'bones', u'book', u'booths', u'border', u'borders', u'born', u'bosom', u'both', u'bottle', u'bou', u'boug', u'bough', u'bought', u'bound', u'bow', u'bowed', u'bowels', u'bowing', u'boys', u'bracelets', u'branches', u'brass', u'bre', u'breach', u'bread', u'breadth', u'break', u'breaketh', u'breaking', u'breasts', u'breath', u'breathed', u'breed', u'brethren', u'brick', u'brimstone', u'bring', u'brink', u'broken', u'brook', u'broth', u'brother', u'brought', u'brown', u'bruise', u'budded', u'build', u'builded', u'built', u'bulls', u'bundle', u'bundles', u'burdens', u'buried', u'burn', u'burning', u'burnt', u'bury', u'buryingplace', u'business', u'but', u'butler', u'butlers', u'butlership', u'butter', u'buy', u'by', u'cakes', u'calf', u'call', u'called', u'came', u'camel', u'camels', u'camest', u'can', u'cannot', u'canst', u'captain', u'captive', u'captives', u'carcases', u'carried', u'carry', u'cast', u'castles', u'catt', u'cattle', u'caught', u'cause', u'caused', u'cave', u'cease', u'ceased', u'certain', u'certainly', u'chain', u'chamber', u'change', u'changed', u'changes', u'charge', u'charged', u'chariot', u'chariots', u'chesnut', u'chi', u'chief', u'child', u'childless', u'childr', u'children', u'chode', u'choice', u'chose', u'circumcis', u'circumcise', u'circumcised', u'citi', u'cities', u'city', u'clave', u'clean', u'clear', u'cleave', u'clo', u'closed', u'clothed', u'clothes', u'cloud', u'clusters', u'co', u'coat', u'coats', u'coffin', u'cold', u'colours', u'colt', u'colts', u'come', u'comest', u'cometh', u'comfort', u'comforted', u'comi', u'coming', u'command', u'commanded', u'commanding', u'commandment', u'commandments', u'commended', u'committed', u'commune', u'communed', u'communing', u'company', u'compassed', u'compasseth', u'conceal', u'conceive', u'conceived', u'conception', u'concerning', u'concubi', u'concubine', u'concubines', u'confederate', u'confound', u'consent', u'conspired', u'consume', u'consumed', u'content', u'continually', u'continued', u'cool', u'corn', u'corrupt', u'corrupted', u'couch', u'couched', u'couching', u'could', u'counted', u'countenance', u'countries', u'country', u'covenant', u'covered', u'covering', u'created', u'creature', u'creepeth', u'creeping', u'cried', u'crieth', u'crown', u'cru', u'cruelty', u'cry', u'cubit', u'cubits', u'cunning', u'cup', u'current', u'curse', u'cursed', u'curseth', u'custom', u'cut', u'd', u'da', u'dainties', u'dale', u'damsel', u'damsels', u'dark', u'darkne', u'darkness', u'daughers', u'daught', u'daughte', u'daughter', u'daughters', u'day', u'days', u'dea', u'dead', u'deal', u'dealt', u'dearth', u'death', u'deceitfully', u'deceived', u'deceiver', u'declare', u'decreased', u'deed', u'deeds', u'deep', u'deferred', u'defiled', u'defiledst', u'delight', u'deliver', u'deliverance', u'delivered', u'denied', u'depart', u'departed', u'departing', u'deprived', u'descending', u'desire', u'desired', u'desolate', u'despised', u'destitute', u'destroy', u'destroyed', u'devour', u'devoured', u'dew', u'did', u'didst', u'die', u'died', u'digged', u'dignity', u'dim', u'dine', u'dipped', u'direct', u'discern', u'discerned', u'discreet', u'displease', u'displeased', u'distress', u'distressed', u'divide', u'divided', u'divine', u'divineth', u'do', u'doe', u'doer', u'doest', u'doeth', u'doing', u'dominion', u'done', u'door', u'dost', u'doth', u'double', u'doubled', u'doubt', u'dove', u'down', u'dowry', u'drank', u'draw', u'dread', u'dreadful', u'dream', u'dreamed', u'dreamer', u'dreams', u'dress', u'dressed', u'drew', u'dried', u'drink', u'drinketh', u'drinking', u'driven', u'drought', u'drove', u'droves', u'drunken', u'dry', u'duke', u'dukes', u'dunge', u'dungeon', u'dust', u'dwe', u'dwell', u'dwelled', u'dwelling', u'dwelt', u'e', u'ea', u'each', u'ear', u'earing', u'early', u'earring', u'earrings', u'ears', u'earth', u'east', u'eastward', u'eat', u'eaten', u'eatest', u'edge', u'eight', u'eighteen', u'eighty', u'either', u'elder', u'elders', u'eldest', u'eleven', u'else', u'embalm', u'embalmed', u'embraced', u'emptied', u'empty', u'end', u'ended', u'endued', u'endure', u'enemies', u'enlarge', u'enmity', u'enough', u'enquire', u'enter', u'entered', u'entreated', u'envied', u'erected', u'errand', u'escape', u'escaped', u'espied', u'establish', u'established', u'ev', u'even', u'evening', u'eventide', u'ever', u'everlasting', u'every', u'evil', u'ewe', u'ewes', u'exceeding', u'exceedingly', u'excel', u'excellency', u'except', u'exchange', u'experience', u'ey', u'eyed', u'eyes', u'fa', u'face', u'faces', u'fai', u'fail', u'failed', u'faileth', u'fainted', u'fair', u'fall', u'fallen', u'falsely', u'fame', u'families', u'famine', u'famished', u'far', u'fashion', u'fast', u'fat', u'fatfleshed', u'fath', u'fathe', u'father', u'fathers', u'fatness', u'faults', u'favour', u'favoured', u'fear', u'feared', u'fearest', u'feast', u'fed', u'feeble', u'feebler', u'feed', u'feeding', u'feel', u'feet', u'fell', u'fellow', u'felt', u'fema', u'female', u'fetch', u'fetched', u'fetcht', u'few', u'fie', u'field', u'fierce', u'fifteen', u'fifth', u'fifty', u'fig', u'fill', u'filled', u'find', u'findest', u'findeth', u'finding', u'fine', u'finish', u'finished', u'fir', u'fire', u'firmame', u'firmament', u'first', u'firstborn', u'firstlings', u'fish', u'fishes', u'five', u'flaming', u'fle', u'fled', u'fleddest', u'flee', u'flesh', u'flo', u'floc', u'flock', u'flocks', u'flood', u'floor', u'fly', u'fo', u'foal', u'foals', u'folk', u'follow', u'followed', u'following', u'folly', u'food', u'foolishly', u'foot', u'for', u'forbid', u'force', u'ford', u'foremost', u'foreskin', u'forgat', u'forget', u'forgive', u'forgotten', u'form', u'formed', u'former', u'forth', u'forty', u'forward', u'fou', u'found', u'fountain', u'fountains', u'four', u'fourscore', u'fourteen', u'fourteenth', u'fourth', u'fowl', u'fowls', u'freely', u'friend', u'friends', u'fro', u'from', u'frost', u'fruit', u'fruitful', u'fruits', u'fugitive', u'fulfilled', u'full', u'furnace', u'furniture', u'fury', u'gard', u'garden', u'garmen', u'garment', u'garments', u'gat', u'gate', u'gather', u'gathered', u'gathering', u'gave', u'gavest', u'generatio', u'generation', u'generations', u'get', u'getting', u'ghost', u'giants', u'gift', u'gifts', u'give', u'given', u'giveth', u'giving', u'glory', u'go', u'goa', u'goat', u'goats', u'gods', u'goest', u'goeth', u'going', u'gold', u'golden', u'gone', u'good', u'goodly', u'goods', u'gopher', u'got', u'gotten', u'governor', u'gr', u'grace', u'gracious', u'graciously', u'grap', u'grapes', u'grass', u'grave', u'gray', u'gre', u'great', u'greater', u'greatly', u'green', u'grew', u'grief', u'grieved', u'grievous', u'grisl', u'grisled', u'gro', u'ground', u'grove', u'grow', u'grown', u'guard', u'guiding', u'guiltiness', u'guilty', u'gutters', u'h', u'ha', u'habitations', u'had', u'hadst', u'hairs', u'hairy', u'half', u'halted', u'han', u'hand', u'handfuls', u'handle', u'handmaid', u'handmaidens', u'handmaids', u'hands', u'hang', u'hanged', u'hard', u'hardly', u'harlot', u'harm', u'harp', u'harvest', u'hast', u'haste', u'hasted', u'hastened', u'hastily', u'hate', u'hated', u'hath', u'have', u'haven', u'having', u'hazel', u'he', u'head', u'heads', u'healed', u'health', u'heap', u'hear', u'heard', u'hearken', u'hearkened', u'heart', u'hearth', u'hearts', u'heat', u'heav', u'heaven', u'heavens', u'heed', u'heel', u'heels', u'heifer', u'height', u'heir', u'held', u'help', u'hence', u'henceforth', u'her', u'herb', u'herd', u'herdmen', u'herds', u'here', u'herein', u'herself', u'hid', u'hide', u'high', u'hil', u'hills', u'him', u'himself', u'hind', u'hindermost', u'hire', u'hired', u'his', u'hith', u'hither', u'hold', u'hollow', u'home', u'honey', u'honour', u'honourable', u'hor', u'horror', u'horse', u'horsemen', u'horses', u'host', u'hotly', u'hou', u'hous', u'house', u'household', u'households', u'how', u'hundred', u'hundredfo', u'hundredth', u'hunt', u'hunter', u'hunting', u'hurt', u'husba', u'husband', u'husbandman', u'if', u'ill', u'image', u'images', u'imagination', u'imagined', u'in', u'increase', u'increased', u'indeed', u'inhabitants', u'inhabited', u'inherit', u'inheritance', u'iniquity', u'inn', u'innocency', u'instead', u'instructor', u'instruments', u'integrity', u'interpret', u'interpretation', u'interpretations', u'interpreted', u'interpreter', u'into', u'intreat', u'intreated', u'ir', u'is', u'isles', u'issue', u'it', u'itself', u'jewels', u'joined', u'joint', u'journey', u'journeyed', u'journeys', u'jud', u'judge', u'judged', u'judgment', u'just', u'justice', u'keep', u'keeper', u'kept', u'ki', u'kid', u'kids', u'kill', u'killed', u'kind', u'kindled', u'kindly', u'kindness', u'kindred', u'kinds', u'kine', u'king', u'kingdom', u'kings', u'kiss', u'kissed', u'kn', u'knead', u'kneel', u'knees', u'knew', u'knife', u'know', u'knowest', u'knoweth', u'knowing', u'knowledge', u'known', u'la', u'labour', u'lack', u'lad', u'ladder', u'lade', u'laded', u'laden', u'lads', u'laid', u'lamb', u'lambs', u'lamentati', u'lamp', u'lan', u'land', u'lands', u'language', u'large', u'last', u'laugh', u'laughed', u'law', u'lawgiver', u'laws', u'lay', u'lead', u'leaf', u'lean', u'leanfleshed', u'leap', u'leaped', u'learned', u'least', u'leave', u'leaves', u'led', u'left', u'length', u'lentiles', u'lesser', u'lest', u'let', u'li', u'lie', u'lien', u'liest', u'lieth', u'life', u'lift', u'lifted', u'light', u'lighted', u'lightly', u'lights', u'like', u'likene', u'likeness', u'linen', u'lingered', u'lion', u'little', u'live', u'lived', u'lives', u'liveth', u'living', u'lo', u'lodge', u'lodged', u'loins', u'long', u'longedst', u'longeth', u'look', u'looked', u'loose', u'lord', u'lords', u'loss', u'loud', u'love', u'loved', u'lovest', u'loveth', u'lower', u'lying', u'm', u'ma', u'made', u'magicians', u'magnified', u'maid', u'maiden', u'maidservants', u'make', u'male', u'males', u'man', u'mandrakes', u'manner', u'many', u'mark', u'marriages', u'married', u'marry', u'marvelled', u'mast', u'master', u'matter', u'may', u'mayest', u'me', u'mead', u'meadow', u'meal', u'mean', u'meanest', u'meant', u'measures', u'meat', u'meditate', u'meet', u'meeteth', u'men', u'menservants', u'mention', u'merchant', u'merchantmen', u'mercies', u'merciful', u'mercy', u'merry', u'mess', u'messenger', u'messengers', u'messes', u'met', u'mi', u'midst', u'midwife', u'might', u'mightier', u'mighty', u'milch', u'milk', u'millions', u'mind', u'mine', u'mirth', u'mischief', u'mist', u'mistress', u'mock', u'mocked', u'mocking', u'money', u'month', u'months', u'moon', u'more', u'moreover', u'morever', u'morning', u'morrow', u'morsel', u'morter', u'most', u'mother', u'mou', u'mount', u'mountain', u'mountains', u'mourn', u'mourned', u'mourning', u'mouth', u'mouths', u'moved', u'moveth', u'moving', u'much', u'mules', u'multiplied', u'multiply', u'multiplying', u'multitude', u'must', u'my', u'myrrh', u'myself', u'n', u'na', u'naked', u'nakedness', u'name', u'named', u'names', u'nati', u'natio', u'nation', u'nations', u'nativity', u'ne', u'near', u'neck', u'needeth', u'needs', u'neither', u'never', u'next', u'nig', u'nigh', u'night', u'nights', u'nine', u'nineteen', u'ninety', u'no', u'none', u'noon', u'nor', u'north', u'northward', u'nostrils', u'not', u'nothing', u'nought', u'nourish', u'nourished', u'now', u'number', u'numbered', u'numbering', u'nurse', u'nuts', u'o', u'oa', u'oak', u'oath', u'obeisance', u'obey', u'obeyed', u'observed', u'obtain', u'occasion', u'occupation', u'of', u'off', u'offended', u'offer', u'offered', u'offeri', u'offering', u'offerings', u'office', u'officer', u'officers', u'oil', u'old', u'olive', u'on', u'one', u'ones', u'only', u'onyx', u'open', u'opened', u'openly', u'or', u'order', u'organ', u'oth', u'other', u'ou', u'ought', u'our', u'ours', u'ourselves', u'out', u'over', u'overcome', u'overdrive', u'overseer', u'oversig', u'overspread', u'overtake', u'overthrew', u'overthrow', u'overtook', u'own', u'oxen', u'parcel', u'part', u'parted', u'parts', u'pass', u'passed', u'past', u'pasture', u'path', u'pea', u'peace', u'peaceable', u'peaceably', u'peop', u'people', u'peradventure', u'perceived', u'perfect', u'perform', u'perish', u'perpetual', u'person', u'persons', u'physicians', u'piece', u'pieces', u'pigeon', u'pilgrimage', u'pillar', u'pilled', u'pillows', u'pit', u'pitch', u'pitched', u'pitcher', u'pla', u'place', u'placed', u'places', u'plagued', u'plagues', u'plain', u'plains', u'plant', u'planted', u'played', u'pleasant', u'pleased', u'pleaseth', u'pleasure', u'pledge', u'plenteous', u'plenteousness', u'plenty', u'pluckt', u'point', u'poor', u'poplar', u'portion', u'possess', u'possessi', u'possession', u'possessions', u'possessor', u'posterity', u'pottage', u'poured', u'poverty', u'pow', u'power', u'praise', u'pray', u'prayed', u'precious', u'prepared', u'presence', u'present', u'presented', u'preserve', u'preserved', u'pressed', u'prevail', u'prevailed', u'prey', u'priest', u'priests', u'prince', u'princes', u'pris', u'prison', u'prisoners', u'proceedeth', u'process', u'profit', u'progenitors', u'prophet', u'prosper', u'prospered', u'prosperous', u'protest', u'proved', u'provender', u'provide', u'provision', u'pulled', u'punishment', u'purchase', u'purchased', u'purposing', u'pursue', u'pursued', u'put', u'putting', u'quart', u'quickly', u'quite', u'quiver', u'raiment', u'rain', u'rained', u'raise', u'ram', u'rams', u'ran', u'rank', u'raven', u'ravin', u'reach', u'reached', u'ready', u'reason', u'rebelled', u'rebuked', u'receive', u'received', u'red', u'redeemed', u'refrain', u'refrained', u'refused', u'regard', u'reign', u'reigned', u'remained', u'remaineth', u'remember', u'remembered', u'remove', u'removed', u'removing', u'renown', u'rent', u'repented', u'repenteth', u'replenish', u'report', u'reproa', u'reproach', u'reproved', u'require', u'required', u'requite', u'reserved', u'respect', u'rest', u'rested', u'restore', u'restored', u'restrained', u'return', u'returned', u'reviv', u'reward', u'rewarded', u'ri', u'rib', u'ribs', u'rich', u'riches', u'rid', u'ride', u'rider', u'right', u'righteous', u'righteousness', u'rightly', u'ring', u'ringstraked', u'ripe', u'rise', u'risen', u'riv', u'river', u'rode', u'rods', u'roll', u'rolled', u'roof', u'room', u'rooms', u'rose', u'roughly', u'round', u'rouse', u'royal', u'rul', u'rule', u'ruled', u'ruler', u'rulers', u'run', u's', u'sa', u'sac', u'sack', u'sackcloth', u'sacks', u'sacrifice', u'sacrifices', u'sad', u'saddled', u'sadly', u'said', u'saidst', u'saith', u'sake', u'sakes', u'salt', u'salvation', u'same', u'sanctified', u'sand', u'sat', u'save', u'saved', u'saving', u'savour', u'savoury', u'saw', u'sawest', u'say', u'saying', u'scarce', u'scarlet', u'scatter', u'scattered', u'sceptre', u'sea', u'searched', u'seas', u'season', u'seasons', u'second', u'secret', u'secretly', u'see', u'seed', u'seedtime', u'seeing', u'seek', u'seekest', u'seem', u'seemed', u'seen', u'seest', u'seeth', u'selfsame', u'selfwill', u'sell', u'send', u'sent', u'separate', u'separated', u'sepulchre', u'sepulchres', u'serpent', u'serva', u'servan', u'servant', u'servants', u'serve', u'served', u'service', u'set', u'seven', u'sevenfold', u'sevens', u'seventeen', u'seventeenth', u'seventh', u'seventy', u'sewed', u'sh', u'shadow', u'shall', u'shalt', u'shamed', u'shaved', u'she', u'sheaf', u'shear', u'sheaves', u'shed', u'sheddeth', u'sheep', u'sheepshearers', u'shekel', u'shekels', u'shepherd', u'shepherds', u'shew', u'shewed', u'sheweth', u'shield', u'ships', u'shoelatchet', u'shore', u'shortly', u'shot', u'should', u'shoulder', u'shoulders', u'shouldest', u'shrank', u'shrubs', u'shut', u'si', u'side', u'sight', u'signet', u'signs', u'silv', u'silver', u'sin', u'since', u'sinew', u'sinners', u'sinning', u'sir', u'sist', u'sister', u'sit', u'six', u'sixteen', u'sixth', u'sixty', u'skins', u'slain', u'slaughter', u'slay', u'slayeth', u'sle', u'sleep', u'slept', u'slew', u'slime', u'slimepits', u'small', u'smell', u'smelled', u'smite', u'smoke', u'smoking', u'smooth', u'smote', u'so', u'sod', u'softly', u'sojourn', u'sojourned', u'sojourner', u'sold', u'sole', u'solemnly', u'some', u'son', u'songs', u'sons', u'soon', u'sore', u'sorely', u'sorrow', u'sort', u'sou', u'sought', u'soul', u'souls', u'south', u'southward', u'sow', u'sowed', u'space', u'spake', u'spare', u'spe', u'speak', u'speaketh', u'speaking', u'speckl', u'speckled', u'spee', u'speech', u'speed', u'speedily', u'spent', u'spi', u'spicery', u'spices', u'spies', u'spilled', u'spirit', u'spoil', u'spoiled', u'spoken', u'sporting', u'spotted', u'spread', u'springing', u'sprung', u'staff', u'stalk', u'stand', u'standest', u'stars', u'state', u'statutes', u'stay', u'stayed', u'ste', u'stead', u'steal', u'steward', u'still', u'stink', u'sto', u'stole', u'stolen', u'stone', u'stones', u'stood', u'stooped', u'stopped', u'store', u'storehouses', u'stories', u'straitly', u'strakes', u'strange', u'stranger', u'strangers', u'straw', u'street', u'strength', u'strengthened', u'stretched', u'stricken', u'strife', u'stript', u'strive', u'strong', u'stronger', u'strove', u'struggled', u'stuff', u'subdue', u'submit', u'substance', u'subtil', u'subtilty', u'such', u'suck', u'suffered', u'summer', u'sun', u'supplanted', u'sure', u'surely', u'surety', u'sustained', u'sware', u'swear', u'sweat', u'sweet', u'sword', u'sworn', u'tabret', u'tak', u'take', u'taken', u'talked', u'talking', u'tar', u'tarried', u'tarry', u'teeth', u'tell', u'tempt', u'ten', u'tender', u'tenor', u'tent', u'tenth', u'tents', u'terror', u'th', u'than', u'that', u'the', u'thee', u'their', u'them', u'themselv', u'themselves', u'then', u'thence', u'there', u'thereby', u'therefore', u'therein', u'thereof', u'thereon', u'these', u'they', u'thi', u'thicket', u'thigh', u'thin', u'thine', u'thing', u'things', u'think', u'third', u'thirteen', u'thirteenth', u'thirty', u'this', u'thistles', u'thither', u'thoroughly', u'those', u'thou', u'though', u'thought', u'thoughts', u'thousand', u'thousands', u'thread', u'three', u'threescore', u'threshingfloor', u'throne', u'through', u'throughout', u'thus', u'thy', u'thyself', u'tidings', u'till', u'tiller', u'tillest', u'tim', u'time', u'times', u'tithes', u'to', u'togeth', u'together', u'toil', u'token', u'told', u'tongue', u'tongues', u'too', u'took', u'top', u'tops', u'torn', u'touch', u'touched', u'toucheth', u'touching', u'toward', u'tower', u'towns', u'tr', u'trade', u'traffick', u'trained', u'travail', u'travailed', u'treasure', u'tree', u'trees', u'trembled', u'trespass', u'tribes', u'tribute', u'troop', u'troubled', u'trough', u'troughs', u'tru', u'true', u'truly', u'truth', u'turn', u'turned', u'turtledove', u'twel', u'twelve', u'twentieth', u'twenty', u'twice', u'twins', u'two', u'unawares', u'uncircumcised', u'uncovered', u'under', u'understand', u'understood', u'ungirded', u'unit', u'unleavened', u'until', u'unto', u'up', u'upon', u'uppermost', u'upright', u'upward', u'urged', u'us', u'utmost', u'vagabond', u'vail', u'vale', u'valley', u'vengeance', u'venison', u'verified', u'verily', u'very', u'vessels', u'vestures', u'victuals', u'vine', u'vineyard', u'violence', u'violently', u'virgin', u'vision', u'visions', u'visit', u'visited', u'voi', u'voice', u'void', u'vow', u'vowed', u'vowedst', u'w', u'wa', u'wages', u'wagons', u'waited', u'walk', u'walked', u'walketh', u'walking', u'wall', u'wander', u'wandered', u'wandering', u'war', u'ward', u'was', u'wash', u'washed', u'wast', u'wat', u'watch', u'water', u'watered', u'watering', u'waters', u'waxed', u'waxen', u'way', u'ways', u'we', u'wealth', u'weaned', u'weapons', u'wearied', u'weary', u'week', u'weep', u'weig', u'weighed', u'weight', u'welfare', u'well', u'wells', u'went', u'wentest', u'wept', u'were', u'west', u'westwa', u'whales', u'what', u'whatsoever', u'wheat', u'whelp', u'when', u'whence', u'whensoever', u'where', u'whereby', u'wherefore', u'wherein', u'whereof', u'whereon', u'wherewith', u'whether', u'which', u'while', u'white', u'whither', u'who', u'whole', u'whom', u'whomsoever', u'whoredom', u'whose', u'whosoever', u'why', u'wi', u'wick', u'wicked', u'wickedly', u'wickedness', u'widow', u'widowhood', u'wife', u'wild', u'wilderness', u'will', u'willing', u'wilt', u'wind', u'window', u'windows', u'wine', u'winged', u'winter', u'wise', u'wit', u'with', u'withered', u'withheld', u'withhold', u'within', u'without', u'witness', u'wittingly', u'wiv', u'wives', u'wo', u'wolf', u'woman', u'womb', u'wombs', u'women', u'womenservan', u'womenservants', u'wondering', u'wood', u'wor', u'word', u'words', u'work', u'worse', u'worship', u'worshipped', u'worth', u'worthy', u'wot', u'wotteth', u'would', u'wouldest', u'wounding', u'wrapped', u'wrath', u'wrestled', u'wrestlings', u'wrong', u'wroth', u'wrought', u'y', u'ye', u'yea', u'year', u'yearn', u'years', u'yesternight', u'yet', u'yield', u'yielded', u'yielding', u'yoke', u'yonder', u'you', u'young', u'younge', u'younger', u'youngest', u'your', u'yourselves', u'youth']\n",
      "2789\n"
     ]
    }
   ],
   "source": [
    "#count\n",
    "print \"total number of words in text3 : \", len(text3)\n",
    "print sorted(set(text3))\n",
    "print len(set(text3))"
   ]
  },
  {
   "cell_type": "code",
   "execution_count": 12,
   "metadata": {
    "collapsed": false
   },
   "outputs": [
    {
     "name": "stdout",
     "output_type": "stream",
     "text": [
      "16.0501972033\n",
      "5\n",
      "1.46430164339\n"
     ]
    }
   ],
   "source": [
    "from __future__ import division\n",
    "print len(text3) / len(set(text3))\n",
    "print text3.count(\"smote\")\n",
    "print 100 * text4.count('a') / len(text4)"
   ]
  },
  {
   "cell_type": "code",
   "execution_count": 3,
   "metadata": {
    "collapsed": false
   },
   "outputs": [
    {
     "name": "stdout",
     "output_type": "stream",
     "text": [
      "16\n",
      "7\n",
      "80\n",
      "1\n"
     ]
    }
   ],
   "source": [
    "def lexical_diversity(text):\n",
    "    return len(text) / len(set(text))\n",
    "def percentage(count, total):\n",
    "    return 100 * count / total\n",
    "print lexical_diversity(text3)\n",
    "print lexical_diversity(text5)\n",
    "print percentage(4, 5)\n",
    "print percentage(text4.count('a'), len(text4))"
   ]
  },
  {
   "cell_type": "markdown",
   "metadata": {},
   "source": [
    "## 1.2 A Closer Look at Python: Texts as Lists of Words\n"
   ]
  },
  {
   "cell_type": "code",
   "execution_count": 4,
   "metadata": {
    "collapsed": false
   },
   "outputs": [
    {
     "name": "stdout",
     "output_type": "stream",
     "text": [
      "Call\n",
      "Ishmael\n"
     ]
    }
   ],
   "source": [
    "sent1 = ['Call', 'me', 'Ishmael', '.']\n",
    "for xyzzy in sent1:\n",
    "    if xyzzy.endswith('l'): print xyzzy"
   ]
  },
  {
   "cell_type": "code",
   "execution_count": 6,
   "metadata": {
    "collapsed": false
   },
   "outputs": [
    {
     "name": "stdout",
     "output_type": "stream",
     "text": [
      "Call is a titlecase word\n",
      "me is a lowercase word\n",
      "Ishmael is a titlecase word\n",
      ". is punctuation\n"
     ]
    }
   ],
   "source": [
    "for token in sent1:\n",
    "    if token.islower():\n",
    "        print token, 'is a lowercase word' \n",
    "    elif token.istitle():\n",
    "        print token, 'is a titlecase word' \n",
    "    else:\n",
    "        print token, 'is punctuation'"
   ]
  },
  {
   "cell_type": "markdown",
   "metadata": {},
   "source": [
    "## 1.5 Automatic Natural Language Understanding\n",
    "- Word Sense Disambiguation\n",
    "     - a. serve: help with food or drink; hold an office; put ball into play \n",
    "     - b. dish: plate; course of a meal; communications device\n"
   ]
  },
  {
   "cell_type": "code",
   "execution_count": null,
   "metadata": {
    "collapsed": true
   },
   "outputs": [],
   "source": []
  },
  {
   "cell_type": "markdown",
   "metadata": {},
   "source": [
    "# Chapter 5 Categorizing and Tagging Words"
   ]
  },
  {
   "cell_type": "code",
   "execution_count": 9,
   "metadata": {
    "collapsed": false
   },
   "outputs": [
    {
     "data": {
      "text/plain": [
       "[('And', 'CC'),\n",
       " ('now', 'RB'),\n",
       " ('for', 'IN'),\n",
       " ('something', 'NN'),\n",
       " ('completely', 'RB'),\n",
       " ('different', 'JJ')]"
      ]
     },
     "execution_count": 9,
     "metadata": {},
     "output_type": "execute_result"
    }
   ],
   "source": [
    "## Using a tagger, part-of-speech tagging, POS tagging, (or word classes or lexical categories)\n",
    "import nltk\n",
    "text = nltk.word_tokenize(\"And now for something completely different\")\n",
    "nltk.pos_tag(text)"
   ]
  },
  {
   "cell_type": "code",
   "execution_count": 10,
   "metadata": {
    "collapsed": false
   },
   "outputs": [
    {
     "data": {
      "text/plain": [
       "[('They', 'PRP'),\n",
       " ('refuse', 'VBP'),\n",
       " ('to', 'TO'),\n",
       " ('permit', 'VB'),\n",
       " ('us', 'PRP'),\n",
       " ('to', 'TO'),\n",
       " ('obtain', 'VB'),\n",
       " ('the', 'DT'),\n",
       " ('refuse', 'NN'),\n",
       " ('permit', 'NN')]"
      ]
     },
     "execution_count": 10,
     "metadata": {},
     "output_type": "execute_result"
    }
   ],
   "source": [
    "text = nltk.word_tokenize(\"They refuse to permit us to obtain the refuse permit\")\n",
    "nltk.pos_tag(text)"
   ]
  },
  {
   "cell_type": "code",
   "execution_count": 11,
   "metadata": {
    "collapsed": false
   },
   "outputs": [
    {
     "name": "stdout",
     "output_type": "stream",
     "text": [
      "man time day year car moment world family house country child boy\n",
      "state job way war girl place word work\n"
     ]
    }
   ],
   "source": [
    "text = nltk.Text(word.lower() for word in nltk.corpus.brown.words())\n",
    "text.similar('woman')"
   ]
  },
  {
   "cell_type": "code",
   "execution_count": 12,
   "metadata": {
    "collapsed": false
   },
   "outputs": [
    {
     "name": "stdout",
     "output_type": "stream",
     "text": [
      "made said put done seen had found left given heard brought got been\n",
      "was set told took in felt that\n"
     ]
    }
   ],
   "source": [
    "text.similar('bought')"
   ]
  },
  {
   "cell_type": "code",
   "execution_count": 13,
   "metadata": {
    "collapsed": false
   },
   "outputs": [
    {
     "name": "stdout",
     "output_type": "stream",
     "text": [
      "in on to of and for with from at by that into as up out down through\n",
      "is all about\n"
     ]
    }
   ],
   "source": [
    "text.similar('over')"
   ]
  },
  {
   "cell_type": "code",
   "execution_count": 14,
   "metadata": {
    "collapsed": false
   },
   "outputs": [
    {
     "name": "stdout",
     "output_type": "stream",
     "text": [
      "a his this their its her an that our any all one these my in your no\n",
      "some other and\n"
     ]
    }
   ],
   "source": [
    "text.similar('the')"
   ]
  },
  {
   "cell_type": "code",
   "execution_count": 17,
   "metadata": {
    "collapsed": false
   },
   "outputs": [
    {
     "name": "stdout",
     "output_type": "stream",
     "text": [
      "fly\n",
      "NN\n"
     ]
    }
   ],
   "source": [
    "## 5.2 Tagged Corpora\n",
    "tagged_token = nltk.tag.str2tuple('fly/NN')\n",
    "print tagged_token[0]\n",
    "print tagged_token[1]"
   ]
  },
  {
   "cell_type": "code",
   "execution_count": 18,
   "metadata": {
    "collapsed": true
   },
   "outputs": [],
   "source": [
    "sent = '''\n",
    "The/AT grand/JJ jury/NN commented/VBD on/IN a/AT number/NN of/IN\n",
    "other/AP topics/NNS ,/, AMONG/IN them/PPO the/AT Atlanta/NP and/CC\n",
    "Fulton/NP-tl County/NN-tl purchasing/VBG departments/NNS which/WDT it/PPS ... said/VBD ``/`` ARE/BER well/QL operated/VBN and/CC follow/VB generally/RB ... accepted/VBN practices/NNS which/WDT inure/VB to/IN the/AT best/JJT\n",
    "interest/NN of/IN both/ABX governments/NNS ''/'' ./.'''"
   ]
  },
  {
   "cell_type": "code",
   "execution_count": 19,
   "metadata": {
    "collapsed": false
   },
   "outputs": [
    {
     "name": "stdout",
     "output_type": "stream",
     "text": [
      "[('The', 'AT'), ('grand', 'JJ'), ('jury', 'NN'), ('commented', 'VBD'), ('on', 'IN'), ('a', 'AT'), ('number', 'NN'), ('of', 'IN'), ('other', 'AP'), ('topics', 'NNS'), (',', ','), ('AMONG', 'IN'), ('them', 'PPO'), ('the', 'AT'), ('Atlanta', 'NP'), ('and', 'CC'), ('Fulton', 'NP-TL'), ('County', 'NN-TL'), ('purchasing', 'VBG'), ('departments', 'NNS'), ('which', 'WDT'), ('it', 'PPS'), ('...', None), ('said', 'VBD'), ('``', '``'), ('ARE', 'BER'), ('well', 'QL'), ('operated', 'VBN'), ('and', 'CC'), ('follow', 'VB'), ('generally', 'RB'), ('...', None), ('accepted', 'VBN'), ('practices', 'NNS'), ('which', 'WDT'), ('inure', 'VB'), ('to', 'IN'), ('the', 'AT'), ('best', 'JJT'), ('interest', 'NN'), ('of', 'IN'), ('both', 'ABX'), ('governments', 'NNS'), (\"''\", \"''\"), ('.', '.')]\n"
     ]
    }
   ],
   "source": [
    "print [nltk.tag.str2tuple(t) for t in sent.split()]"
   ]
  },
  {
   "cell_type": "code",
   "execution_count": 21,
   "metadata": {
    "collapsed": false
   },
   "outputs": [
    {
     "name": "stdout",
     "output_type": "stream",
     "text": [
      "NN\n"
     ]
    }
   ],
   "source": [
    "## 5.4 Automatic Tagging\n",
    "from nltk.corpus import brown\n",
    "brown_tagged_sents = brown.tagged_sents(categories='news')\n",
    "brown_sents = brown.sents(categories='news')\n",
    "tags = [tag for (word, tag) in brown.tagged_words(categories='news')]\n",
    "print nltk.FreqDist(tags).max()"
   ]
  },
  {
   "cell_type": "code",
   "execution_count": 26,
   "metadata": {
    "collapsed": false
   },
   "outputs": [
    {
     "name": "stdout",
     "output_type": "stream",
     "text": [
      "[('I', 'NN'), ('do', 'NN'), ('not', 'NN'), ('like', 'NN'), ('green', 'NN'), ('eggs', 'NN'), ('and', 'NN'), ('ham', 'NN'), (',', 'NN'), ('I', 'NN'), ('do', 'NN'), ('not', 'NN'), ('like', 'NN'), ('them', 'NN'), ('Sam', 'NN'), ('I', 'NN'), ('am', 'NN'), ('!', 'NN')]\n",
      "0.130894842572\n"
     ]
    }
   ],
   "source": [
    "##The Default Tagger\n",
    "raw = 'I do not like green eggs and ham, I do not like them Sam I am!' \n",
    "tokens = nltk.word_tokenize(raw)\n",
    "default_tagger = nltk.DefaultTagger('NN')\n",
    "print default_tagger.tag(tokens)\n",
    "print default_tagger.evaluate(brown_tagged_sents)"
   ]
  },
  {
   "cell_type": "code",
   "execution_count": 27,
   "metadata": {
    "collapsed": false
   },
   "outputs": [
    {
     "name": "stdout",
     "output_type": "stream",
     "text": [
      "[(u'``', 'NN'), (u'Only', 'NN'), (u'a', 'NN'), (u'relative', 'NN'), (u'handful', 'NN'), (u'of', 'NN'), (u'such', 'NN'), (u'reports', 'NNS'), (u'was', 'NNS'), (u'received', 'VBD'), (u\"''\", 'NN'), (u',', 'NN'), (u'the', 'NN'), (u'jury', 'NN'), (u'said', 'NN'), (u',', 'NN'), (u'``', 'NN'), (u'considering', 'VBG'), (u'the', 'NN'), (u'widespread', 'NN'), (u'interest', 'NN'), (u'in', 'NN'), (u'the', 'NN'), (u'election', 'NN'), (u',', 'NN'), (u'the', 'NN'), (u'number', 'NN'), (u'of', 'NN'), (u'voters', 'NNS'), (u'and', 'NN'), (u'the', 'NN'), (u'size', 'NN'), (u'of', 'NN'), (u'this', 'NNS'), (u'city', 'NN'), (u\"''\", 'NN'), (u'.', 'NN')]\n",
      "0.203263917895\n"
     ]
    }
   ],
   "source": [
    "## The Regular Expression Tagger\n",
    "patterns = [\n",
    "(r'.*ing$', 'VBG'),\n",
    "(r'.*ed$', 'VBD'),\n",
    "(r'.*es$', 'VBZ'),\n",
    "(r'.*ould$', 'MD'),\n",
    "(r'.*\\'s$', 'NN$'),\n",
    "(r'.*s$', 'NNS'),\n",
    "(r'^-?[0-9]+(.[0-9]+)?$', 'CD'),\n",
    "(r'.*', 'NN')\n",
    "]\n",
    "\n",
    "regexp_tagger = nltk.RegexpTagger(patterns)\n",
    "print regexp_tagger.tag(brown_sents[3])\n",
    "print regexp_tagger.evaluate(brown_tagged_sents)"
   ]
  },
  {
   "cell_type": "code",
   "execution_count": 29,
   "metadata": {
    "collapsed": false
   },
   "outputs": [
    {
     "name": "stdout",
     "output_type": "stream",
     "text": [
      "0.00517135071703\n"
     ]
    }
   ],
   "source": [
    "## The Lookup Tagger\n",
    "fd = nltk.FreqDist(brown.words(categories='news'))\n",
    "cfd = nltk.ConditionalFreqDist(brown.tagged_words(categories='news'))\n",
    "most_freq_words = fd.keys()[:100]\n",
    "likely_tags = dict((word, cfd[word].max()) for word in most_freq_words) \n",
    "baseline_tagger = nltk.UnigramTagger(model=likely_tags)\n",
    "print baseline_tagger.evaluate(brown_tagged_sents)"
   ]
  },
  {
   "cell_type": "code",
   "execution_count": 30,
   "metadata": {
    "collapsed": false
   },
   "outputs": [
    {
     "data": {
      "text/plain": [
       "[(u'``', None),\n",
       " (u'Only', None),\n",
       " (u'a', None),\n",
       " (u'relative', None),\n",
       " (u'handful', None),\n",
       " (u'of', None),\n",
       " (u'such', None),\n",
       " (u'reports', u'NNS'),\n",
       " (u'was', None),\n",
       " (u'received', None),\n",
       " (u\"''\", None),\n",
       " (u',', None),\n",
       " (u'the', None),\n",
       " (u'jury', None),\n",
       " (u'said', None),\n",
       " (u',', None),\n",
       " (u'``', None),\n",
       " (u'considering', None),\n",
       " (u'the', None),\n",
       " (u'widespread', None),\n",
       " (u'interest', None),\n",
       " (u'in', None),\n",
       " (u'the', None),\n",
       " (u'election', None),\n",
       " (u',', None),\n",
       " (u'the', None),\n",
       " (u'number', None),\n",
       " (u'of', None),\n",
       " (u'voters', None),\n",
       " (u'and', None),\n",
       " (u'the', None),\n",
       " (u'size', None),\n",
       " (u'of', None),\n",
       " (u'this', None),\n",
       " (u'city', None),\n",
       " (u\"''\", None),\n",
       " (u'.', None)]"
      ]
     },
     "execution_count": 30,
     "metadata": {},
     "output_type": "execute_result"
    }
   ],
   "source": [
    "sent = brown.sents(categories='news')[3]\n",
    "baseline_tagger.tag(sent)"
   ]
  },
  {
   "cell_type": "code",
   "execution_count": 31,
   "metadata": {
    "collapsed": true
   },
   "outputs": [],
   "source": [
    "baseline_tagger = nltk.UnigramTagger(model=likely_tags,\n",
    "                                    backoff=nltk.DefaultTagger('NN'))"
   ]
  },
  {
   "cell_type": "code",
   "execution_count": 36,
   "metadata": {
    "collapsed": true
   },
   "outputs": [],
   "source": [
    "def performance(cfd, wordlist):\n",
    "    lt = dict((word, cfd[word].max()) for word in wordlist)\n",
    "    baseline_tagger = nltk.UnigramTagger(model=lt, backoff=nltk.DefaultTagger('NN')) \n",
    "    return baseline_tagger.evaluate(brown.tagged_sents(categories='news'))\n",
    "\n",
    "def display(): \n",
    "    import pylab\n",
    "    words_by_freq = list(nltk.FreqDist(brown.words(categories='news'))) \n",
    "    cfd = nltk.ConditionalFreqDist(brown.tagged_words(categories='news')) \n",
    "    sizes = 2 ** pylab.arange(15)\n",
    "    perfs = [performance(cfd, words_by_freq[:size]) for size in sizes] \n",
    "    pylab.plot(sizes, perfs, '-bo')\n",
    "    pylab.title('Lookup Tagger Performance with Varying Model Size')\n",
    "    pylab.xlabel('Model Size')\n",
    "    pylab.ylabel('Performance')\n",
    "    pylab.show()"
   ]
  },
  {
   "cell_type": "code",
   "execution_count": 37,
   "metadata": {
    "collapsed": false
   },
   "outputs": [
    {
     "data": {
      "image/png": "[encoded data removed]",
      "text/plain": [
       "<matplotlib.figure.Figure at 0x11fd6bad0>"
      ]
     },
     "metadata": {},
     "output_type": "display_data"
    }
   ],
   "source": [
    "%matplotlib inline\n",
    "display()"
   ]
  },
  {
   "cell_type": "markdown",
   "metadata": {},
   "source": [
    "### 5.5 N-Gram Tagging\n",
    "- Unigram Tagging\n",
    "- Separating the Training and Testing Data\n",
    "- General N-Gram Tagging\n",
    "- Tagging Unknown Words\n",
    "- Storing Taggers\n",
    "- Performance Limitations"
   ]
  },
  {
   "cell_type": "code",
   "execution_count": 38,
   "metadata": {
    "collapsed": false
   },
   "outputs": [
    {
     "name": "stdout",
     "output_type": "stream",
     "text": [
      "[(u'Various', u'JJ'), (u'of', u'IN'), (u'the', u'AT'), (u'apartments', u'NNS'), (u'are', u'BER'), (u'of', u'IN'), (u'the', u'AT'), (u'terrace', u'NN'), (u'type', u'NN'), (u',', u','), (u'being', u'BEG'), (u'on', u'IN'), (u'the', u'AT'), (u'ground', u'NN'), (u'floor', u'NN'), (u'so', u'QL'), (u'that', u'CS'), (u'entrance', u'NN'), (u'is', u'BEZ'), (u'direct', u'JJ'), (u'.', u'.')]\n",
      "0.934900650397\n"
     ]
    }
   ],
   "source": [
    "from nltk.corpus import brown\n",
    "\n",
    "brown_tagged_sents = brown.tagged_sents(categories='news')\n",
    "brown_sents = brown.sents(categories='news')\n",
    "unigram_tagger = nltk.UnigramTagger(brown_tagged_sents)\n",
    "print unigram_tagger.tag(brown_sents[2007])\n",
    "print unigram_tagger.evaluate(brown_tagged_sents)"
   ]
  },
  {
   "cell_type": "code",
   "execution_count": 40,
   "metadata": {
    "collapsed": false
   },
   "outputs": [
    {
     "name": "stdout",
     "output_type": "stream",
     "text": [
      "4160\n"
     ]
    },
    {
     "data": {
      "text/plain": [
       "0.8120203329014253"
      ]
     },
     "execution_count": 40,
     "metadata": {},
     "output_type": "execute_result"
    }
   ],
   "source": [
    "size = int(len(brown_tagged_sents) * 0.9)\n",
    "print size\n",
    "\n",
    "train_sents = brown_tagged_sents[:size]\n",
    "test_sents = brown_tagged_sents[size:]\n",
    "unigram_tagger = nltk.UnigramTagger(train_sents) \n",
    "unigram_tagger.evaluate(test_sents)"
   ]
  },
  {
   "cell_type": "code",
   "execution_count": 42,
   "metadata": {
    "collapsed": false
   },
   "outputs": [
    {
     "name": "stdout",
     "output_type": "stream",
     "text": [
      "[(u'Various', u'JJ'), (u'of', u'IN'), (u'the', u'AT'), (u'apartments', u'NNS'), (u'are', u'BER'), (u'of', u'IN'), (u'the', u'AT'), (u'terrace', u'NN'), (u'type', u'NN'), (u',', u','), (u'being', u'BEG'), (u'on', u'IN'), (u'the', u'AT'), (u'ground', u'NN'), (u'floor', u'NN'), (u'so', u'CS'), (u'that', u'CS'), (u'entrance', u'NN'), (u'is', u'BEZ'), (u'direct', u'JJ'), (u'.', u'.')]\n",
      "[(u'The', u'AT'), (u'population', u'NN'), (u'of', u'IN'), (u'the', u'AT'), (u'Congo', u'NP'), (u'is', u'BEZ'), (u'13.5', None), (u'million', None), (u',', None), (u'divided', None), (u'into', None), (u'at', None), (u'least', None), (u'seven', None), (u'major', None), (u'``', None), (u'culture', None), (u'clusters', None), (u\"''\", None), (u'and', None), (u'innumerable', None), (u'tribes', None), (u'speaking', None), (u'400', None), (u'separate', None), (u'dialects', None), (u'.', None)]\n",
      "0.102760889066\n"
     ]
    }
   ],
   "source": [
    "bigram_tagger = nltk.BigramTagger(train_sents)\n",
    "print bigram_tagger.tag(brown_sents[2007])\n",
    "\n",
    "unseen_sent = brown_sents[4203]\n",
    "print  bigram_tagger.tag(unseen_sent)\n",
    "print bigram_tagger.evaluate(test_sents)"
   ]
  },
  {
   "cell_type": "code",
   "execution_count": 43,
   "metadata": {
    "collapsed": false
   },
   "outputs": [
    {
     "name": "stdout",
     "output_type": "stream",
     "text": [
      "0.844911791089\n"
     ]
    }
   ],
   "source": [
    "t0 = nltk.DefaultTagger('NN')\n",
    "t1 = nltk.UnigramTagger(train_sents, backoff=t0) \n",
    "t2 = nltk.BigramTagger(train_sents, backoff=t1) \n",
    "print t2.evaluate(test_sents)"
   ]
  }
 ],
 "metadata": {
  "kernelspec": {
   "display_name": "Python 2",
   "language": "python",
   "name": "python2"
  },
  "language_info": {
   "codemirror_mode": {
    "name": "ipython",
    "version": 2
   },
   "file_extension": ".py",
   "mimetype": "text/x-python",
   "name": "python",
   "nbconvert_exporter": "python",
   "pygments_lexer": "ipython2",
   "version": "2.7.11"
  }
 },
 "nbformat": 4,
 "nbformat_minor": 0
}
